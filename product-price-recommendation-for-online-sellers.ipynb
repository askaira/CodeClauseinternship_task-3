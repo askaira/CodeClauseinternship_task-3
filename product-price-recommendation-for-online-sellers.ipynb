{
 "cells": [
  {
   "cell_type": "markdown",
   "metadata": {},
   "source": [
    "**<span style=\"font-family: 'Bookman Old Style', sans-serif; font-size: 25px;\">\n",
    "Product Price Recommendation for Online Sellers </span>**"
   ]
  },
  {
   "cell_type": "markdown",
   "metadata": {},
   "source": [
    "<span style=\"font-family: 'Bookman Old Style', sans-serif; font-size: 20px;\"> 1. Modules Imported </span>"
   ]
  },
  {
   "cell_type": "code",
   "execution_count": 1,
   "metadata": {
    "execution": {
     "iopub.execute_input": "2023-08-15T19:58:18.983347Z",
     "iopub.status.busy": "2023-08-15T19:58:18.982873Z",
     "iopub.status.idle": "2023-08-15T19:58:21.333918Z",
     "shell.execute_reply": "2023-08-15T19:58:21.332536Z",
     "shell.execute_reply.started": "2023-08-15T19:58:18.983306Z"
    }
   },
   "outputs": [
    {
     "name": "stderr",
     "output_type": "stream",
     "text": [
      "/opt/conda/lib/python3.10/site-packages/scipy/__init__.py:146: UserWarning: A NumPy version >=1.16.5 and <1.23.0 is required for this version of SciPy (detected version 1.23.5\n",
      "  warnings.warn(f\"A NumPy version >={np_minversion} and <{np_maxversion}\"\n"
     ]
    }
   ],
   "source": [
    "import matplotlib.pyplot as plt\n",
    "import seaborn as sns\n",
    "import pandas as pd\n",
    "from sklearn.linear_model import LinearRegression, Lasso, Ridge\n",
    "from sklearn.ensemble import RandomForestRegressor\n",
    "from sklearn.metrics import mean_squared_error, r2_score\n",
    "from sklearn.preprocessing import LabelEncoder, StandardScaler\n",
    "from sklearn.model_selection import train_test_split"
   ]
  },
  {
   "cell_type": "markdown",
   "metadata": {},
   "source": [
    "<span style=\"font-family: 'Bookman Old Style', sans-serif; font-size: 20px;\"> 2. Dataset </span>"
   ]
  },
  {
   "cell_type": "markdown",
   "metadata": {},
   "source": [
    "<span style=\"font-family: 'Bookman Old Style', sans-serif; font-size: 16px;\"> The dataset is taken from Kaggle- which is an open source dataset. This data contains the details regarding various items, throughout different countries which would help us in recommendation of the price of the items. This contains all the transactions occurring between 01/12/2010 and 09/12/2011 for a UK-based store<br>\n",
    "    <b>Dataset Link :</b> https://www.kaggle.com/datasets/carrie1/ecommerce-data </span>"
   ]
  },
  {
   "cell_type": "code",
   "execution_count": 2,
   "metadata": {
    "execution": {
     "iopub.execute_input": "2023-08-15T19:58:21.336800Z",
     "iopub.status.busy": "2023-08-15T19:58:21.336001Z",
     "iopub.status.idle": "2023-08-15T19:58:23.032572Z",
     "shell.execute_reply": "2023-08-15T19:58:23.031280Z",
     "shell.execute_reply.started": "2023-08-15T19:58:21.336755Z"
    }
   },
   "outputs": [],
   "source": [
    "df = pd.read_csv(r\"/kaggle/input/ecommerce-data/data.csv\", encoding='unicode_escape')"
   ]
  },
  {
   "cell_type": "code",
   "execution_count": 3,
   "metadata": {
    "execution": {
     "iopub.execute_input": "2023-08-15T19:58:23.034562Z",
     "iopub.status.busy": "2023-08-15T19:58:23.034127Z",
     "iopub.status.idle": "2023-08-15T19:58:23.059506Z",
     "shell.execute_reply": "2023-08-15T19:58:23.058408Z",
     "shell.execute_reply.started": "2023-08-15T19:58:23.034514Z"
    }
   },
   "outputs": [
    {
     "data": {
      "text/html": [
       "<div>\n",
       "<style scoped>\n",
       "    .dataframe tbody tr th:only-of-type {\n",
       "        vertical-align: middle;\n",
       "    }\n",
       "\n",
       "    .dataframe tbody tr th {\n",
       "        vertical-align: top;\n",
       "    }\n",
       "\n",
       "    .dataframe thead th {\n",
       "        text-align: right;\n",
       "    }\n",
       "</style>\n",
       "<table border=\"1\" class=\"dataframe\">\n",
       "  <thead>\n",
       "    <tr style=\"text-align: right;\">\n",
       "      <th></th>\n",
       "      <th>InvoiceNo</th>\n",
       "      <th>StockCode</th>\n",
       "      <th>Description</th>\n",
       "      <th>Quantity</th>\n",
       "      <th>InvoiceDate</th>\n",
       "      <th>UnitPrice</th>\n",
       "      <th>CustomerID</th>\n",
       "      <th>Country</th>\n",
       "    </tr>\n",
       "  </thead>\n",
       "  <tbody>\n",
       "    <tr>\n",
       "      <th>0</th>\n",
       "      <td>536365</td>\n",
       "      <td>85123A</td>\n",
       "      <td>WHITE HANGING HEART T-LIGHT HOLDER</td>\n",
       "      <td>6</td>\n",
       "      <td>12/1/2010 8:26</td>\n",
       "      <td>2.55</td>\n",
       "      <td>17850.0</td>\n",
       "      <td>United Kingdom</td>\n",
       "    </tr>\n",
       "    <tr>\n",
       "      <th>1</th>\n",
       "      <td>536365</td>\n",
       "      <td>71053</td>\n",
       "      <td>WHITE METAL LANTERN</td>\n",
       "      <td>6</td>\n",
       "      <td>12/1/2010 8:26</td>\n",
       "      <td>3.39</td>\n",
       "      <td>17850.0</td>\n",
       "      <td>United Kingdom</td>\n",
       "    </tr>\n",
       "    <tr>\n",
       "      <th>2</th>\n",
       "      <td>536365</td>\n",
       "      <td>84406B</td>\n",
       "      <td>CREAM CUPID HEARTS COAT HANGER</td>\n",
       "      <td>8</td>\n",
       "      <td>12/1/2010 8:26</td>\n",
       "      <td>2.75</td>\n",
       "      <td>17850.0</td>\n",
       "      <td>United Kingdom</td>\n",
       "    </tr>\n",
       "    <tr>\n",
       "      <th>3</th>\n",
       "      <td>536365</td>\n",
       "      <td>84029G</td>\n",
       "      <td>KNITTED UNION FLAG HOT WATER BOTTLE</td>\n",
       "      <td>6</td>\n",
       "      <td>12/1/2010 8:26</td>\n",
       "      <td>3.39</td>\n",
       "      <td>17850.0</td>\n",
       "      <td>United Kingdom</td>\n",
       "    </tr>\n",
       "    <tr>\n",
       "      <th>4</th>\n",
       "      <td>536365</td>\n",
       "      <td>84029E</td>\n",
       "      <td>RED WOOLLY HOTTIE WHITE HEART.</td>\n",
       "      <td>6</td>\n",
       "      <td>12/1/2010 8:26</td>\n",
       "      <td>3.39</td>\n",
       "      <td>17850.0</td>\n",
       "      <td>United Kingdom</td>\n",
       "    </tr>\n",
       "  </tbody>\n",
       "</table>\n",
       "</div>"
      ],
      "text/plain": [
       "  InvoiceNo StockCode                          Description  Quantity  \\\n",
       "0    536365    85123A   WHITE HANGING HEART T-LIGHT HOLDER         6   \n",
       "1    536365     71053                  WHITE METAL LANTERN         6   \n",
       "2    536365    84406B       CREAM CUPID HEARTS COAT HANGER         8   \n",
       "3    536365    84029G  KNITTED UNION FLAG HOT WATER BOTTLE         6   \n",
       "4    536365    84029E       RED WOOLLY HOTTIE WHITE HEART.         6   \n",
       "\n",
       "      InvoiceDate  UnitPrice  CustomerID         Country  \n",
       "0  12/1/2010 8:26       2.55     17850.0  United Kingdom  \n",
       "1  12/1/2010 8:26       3.39     17850.0  United Kingdom  \n",
       "2  12/1/2010 8:26       2.75     17850.0  United Kingdom  \n",
       "3  12/1/2010 8:26       3.39     17850.0  United Kingdom  \n",
       "4  12/1/2010 8:26       3.39     17850.0  United Kingdom  "
      ]
     },
     "execution_count": 3,
     "metadata": {},
     "output_type": "execute_result"
    }
   ],
   "source": [
    "df.head()"
   ]
  },
  {
   "cell_type": "markdown",
   "metadata": {},
   "source": [
    "<span style=\"font-family: 'Bookman Old Style', sans-serif; font-size: 20px;\"> 3. Data Preprocessing  </span>"
   ]
  },
  {
   "cell_type": "code",
   "execution_count": 4,
   "metadata": {
    "execution": {
     "iopub.execute_input": "2023-08-15T19:58:23.063266Z",
     "iopub.status.busy": "2023-08-15T19:58:23.062778Z",
     "iopub.status.idle": "2023-08-15T19:58:23.071139Z",
     "shell.execute_reply": "2023-08-15T19:58:23.069860Z",
     "shell.execute_reply.started": "2023-08-15T19:58:23.063196Z"
    }
   },
   "outputs": [
    {
     "data": {
      "text/plain": [
       "(541909, 8)"
      ]
     },
     "execution_count": 4,
     "metadata": {},
     "output_type": "execute_result"
    }
   ],
   "source": [
    "df.shape"
   ]
  },
  {
   "cell_type": "code",
   "execution_count": 5,
   "metadata": {
    "execution": {
     "iopub.execute_input": "2023-08-15T19:58:23.073182Z",
     "iopub.status.busy": "2023-08-15T19:58:23.072756Z",
     "iopub.status.idle": "2023-08-15T19:58:23.204573Z",
     "shell.execute_reply": "2023-08-15T19:58:23.203436Z",
     "shell.execute_reply.started": "2023-08-15T19:58:23.073128Z"
    }
   },
   "outputs": [
    {
     "data": {
      "text/html": [
       "<div>\n",
       "<style scoped>\n",
       "    .dataframe tbody tr th:only-of-type {\n",
       "        vertical-align: middle;\n",
       "    }\n",
       "\n",
       "    .dataframe tbody tr th {\n",
       "        vertical-align: top;\n",
       "    }\n",
       "\n",
       "    .dataframe thead th {\n",
       "        text-align: right;\n",
       "    }\n",
       "</style>\n",
       "<table border=\"1\" class=\"dataframe\">\n",
       "  <thead>\n",
       "    <tr style=\"text-align: right;\">\n",
       "      <th></th>\n",
       "      <th>Quantity</th>\n",
       "      <th>UnitPrice</th>\n",
       "      <th>CustomerID</th>\n",
       "    </tr>\n",
       "  </thead>\n",
       "  <tbody>\n",
       "    <tr>\n",
       "      <th>count</th>\n",
       "      <td>541909.000000</td>\n",
       "      <td>541909.000000</td>\n",
       "      <td>406829.000000</td>\n",
       "    </tr>\n",
       "    <tr>\n",
       "      <th>mean</th>\n",
       "      <td>9.552250</td>\n",
       "      <td>4.611114</td>\n",
       "      <td>15287.690570</td>\n",
       "    </tr>\n",
       "    <tr>\n",
       "      <th>std</th>\n",
       "      <td>218.081158</td>\n",
       "      <td>96.759853</td>\n",
       "      <td>1713.600303</td>\n",
       "    </tr>\n",
       "    <tr>\n",
       "      <th>min</th>\n",
       "      <td>-80995.000000</td>\n",
       "      <td>-11062.060000</td>\n",
       "      <td>12346.000000</td>\n",
       "    </tr>\n",
       "    <tr>\n",
       "      <th>25%</th>\n",
       "      <td>1.000000</td>\n",
       "      <td>1.250000</td>\n",
       "      <td>13953.000000</td>\n",
       "    </tr>\n",
       "    <tr>\n",
       "      <th>50%</th>\n",
       "      <td>3.000000</td>\n",
       "      <td>2.080000</td>\n",
       "      <td>15152.000000</td>\n",
       "    </tr>\n",
       "    <tr>\n",
       "      <th>75%</th>\n",
       "      <td>10.000000</td>\n",
       "      <td>4.130000</td>\n",
       "      <td>16791.000000</td>\n",
       "    </tr>\n",
       "    <tr>\n",
       "      <th>max</th>\n",
       "      <td>80995.000000</td>\n",
       "      <td>38970.000000</td>\n",
       "      <td>18287.000000</td>\n",
       "    </tr>\n",
       "  </tbody>\n",
       "</table>\n",
       "</div>"
      ],
      "text/plain": [
       "            Quantity      UnitPrice     CustomerID\n",
       "count  541909.000000  541909.000000  406829.000000\n",
       "mean        9.552250       4.611114   15287.690570\n",
       "std       218.081158      96.759853    1713.600303\n",
       "min    -80995.000000  -11062.060000   12346.000000\n",
       "25%         1.000000       1.250000   13953.000000\n",
       "50%         3.000000       2.080000   15152.000000\n",
       "75%        10.000000       4.130000   16791.000000\n",
       "max     80995.000000   38970.000000   18287.000000"
      ]
     },
     "execution_count": 5,
     "metadata": {},
     "output_type": "execute_result"
    }
   ],
   "source": [
    "df.describe()"
   ]
  },
  {
   "cell_type": "markdown",
   "metadata": {},
   "source": [
    "<span style=\"font-family: 'Bookman Old Style', sans-serif; font-size: 16px;\"> Checking Datatypes of all columns </span>"
   ]
  },
  {
   "cell_type": "code",
   "execution_count": 6,
   "metadata": {
    "execution": {
     "iopub.execute_input": "2023-08-15T19:58:23.207063Z",
     "iopub.status.busy": "2023-08-15T19:58:23.205750Z",
     "iopub.status.idle": "2023-08-15T19:58:23.216317Z",
     "shell.execute_reply": "2023-08-15T19:58:23.215015Z",
     "shell.execute_reply.started": "2023-08-15T19:58:23.207017Z"
    }
   },
   "outputs": [
    {
     "data": {
      "text/plain": [
       "InvoiceNo       object\n",
       "StockCode       object\n",
       "Description     object\n",
       "Quantity         int64\n",
       "InvoiceDate     object\n",
       "UnitPrice      float64\n",
       "CustomerID     float64\n",
       "Country         object\n",
       "dtype: object"
      ]
     },
     "execution_count": 6,
     "metadata": {},
     "output_type": "execute_result"
    }
   ],
   "source": [
    "df.dtypes"
   ]
  },
  {
   "cell_type": "markdown",
   "metadata": {},
   "source": [
    "<span style=\"font-family: 'Bookman Old Style', sans-serif; font-size: 16px;\"> Checking for Null Values in the dataset.<br> Description, and CustomerID has null/missing values </span>"
   ]
  },
  {
   "cell_type": "code",
   "execution_count": 7,
   "metadata": {
    "execution": {
     "iopub.execute_input": "2023-08-15T19:58:23.218628Z",
     "iopub.status.busy": "2023-08-15T19:58:23.218127Z",
     "iopub.status.idle": "2023-08-15T19:58:23.686306Z",
     "shell.execute_reply": "2023-08-15T19:58:23.685200Z",
     "shell.execute_reply.started": "2023-08-15T19:58:23.218585Z"
    }
   },
   "outputs": [
    {
     "data": {
      "text/plain": [
       "InvoiceNo           0\n",
       "StockCode           0\n",
       "Description      1454\n",
       "Quantity            0\n",
       "InvoiceDate         0\n",
       "UnitPrice           0\n",
       "CustomerID     135080\n",
       "Country             0\n",
       "dtype: int64"
      ]
     },
     "execution_count": 7,
     "metadata": {},
     "output_type": "execute_result"
    }
   ],
   "source": [
    "df.isnull().sum()"
   ]
  },
  {
   "cell_type": "markdown",
   "metadata": {},
   "source": [
    "<span style=\"font-family: 'Bookman Old Style', sans-serif; font-size: 16px;\"> CustomerID usually wouldn't affect price recommendations. So its better to remove the rows which doesn't have CustomerID </span>"
   ]
  },
  {
   "cell_type": "code",
   "execution_count": 8,
   "metadata": {
    "execution": {
     "iopub.execute_input": "2023-08-15T19:58:23.688867Z",
     "iopub.status.busy": "2023-08-15T19:58:23.688054Z",
     "iopub.status.idle": "2023-08-15T19:58:23.749971Z",
     "shell.execute_reply": "2023-08-15T19:58:23.748705Z",
     "shell.execute_reply.started": "2023-08-15T19:58:23.688825Z"
    }
   },
   "outputs": [],
   "source": [
    "df.dropna(subset=['CustomerID'],axis = 0, inplace=True)"
   ]
  },
  {
   "cell_type": "code",
   "execution_count": 9,
   "metadata": {
    "execution": {
     "iopub.execute_input": "2023-08-15T19:58:23.753198Z",
     "iopub.status.busy": "2023-08-15T19:58:23.752376Z",
     "iopub.status.idle": "2023-08-15T19:58:23.760900Z",
     "shell.execute_reply": "2023-08-15T19:58:23.759718Z",
     "shell.execute_reply.started": "2023-08-15T19:58:23.753126Z"
    }
   },
   "outputs": [
    {
     "data": {
      "text/plain": [
       "(406829, 8)"
      ]
     },
     "execution_count": 9,
     "metadata": {},
     "output_type": "execute_result"
    }
   ],
   "source": [
    "df.shape"
   ]
  },
  {
   "cell_type": "markdown",
   "metadata": {},
   "source": [
    "<span style=\"font-family: 'Bookman Old Style', sans-serif; font-size: 16px;\"> Null/missing values have been removed </span>"
   ]
  },
  {
   "cell_type": "code",
   "execution_count": 10,
   "metadata": {
    "execution": {
     "iopub.execute_input": "2023-08-15T19:58:23.767569Z",
     "iopub.status.busy": "2023-08-15T19:58:23.766802Z",
     "iopub.status.idle": "2023-08-15T19:58:24.137212Z",
     "shell.execute_reply": "2023-08-15T19:58:24.136217Z",
     "shell.execute_reply.started": "2023-08-15T19:58:23.767519Z"
    }
   },
   "outputs": [
    {
     "data": {
      "text/plain": [
       "InvoiceNo      0\n",
       "StockCode      0\n",
       "Description    0\n",
       "Quantity       0\n",
       "InvoiceDate    0\n",
       "UnitPrice      0\n",
       "CustomerID     0\n",
       "Country        0\n",
       "dtype: int64"
      ]
     },
     "execution_count": 10,
     "metadata": {},
     "output_type": "execute_result"
    }
   ],
   "source": [
    "df.isnull().sum()"
   ]
  },
  {
   "cell_type": "code",
   "execution_count": 11,
   "metadata": {
    "execution": {
     "iopub.execute_input": "2023-08-15T19:58:24.138897Z",
     "iopub.status.busy": "2023-08-15T19:58:24.138567Z",
     "iopub.status.idle": "2023-08-15T19:58:24.154046Z",
     "shell.execute_reply": "2023-08-15T19:58:24.152984Z",
     "shell.execute_reply.started": "2023-08-15T19:58:24.138868Z"
    }
   },
   "outputs": [
    {
     "data": {
      "text/html": [
       "<div>\n",
       "<style scoped>\n",
       "    .dataframe tbody tr th:only-of-type {\n",
       "        vertical-align: middle;\n",
       "    }\n",
       "\n",
       "    .dataframe tbody tr th {\n",
       "        vertical-align: top;\n",
       "    }\n",
       "\n",
       "    .dataframe thead th {\n",
       "        text-align: right;\n",
       "    }\n",
       "</style>\n",
       "<table border=\"1\" class=\"dataframe\">\n",
       "  <thead>\n",
       "    <tr style=\"text-align: right;\">\n",
       "      <th></th>\n",
       "      <th>InvoiceNo</th>\n",
       "      <th>StockCode</th>\n",
       "      <th>Description</th>\n",
       "      <th>Quantity</th>\n",
       "      <th>InvoiceDate</th>\n",
       "      <th>UnitPrice</th>\n",
       "      <th>CustomerID</th>\n",
       "      <th>Country</th>\n",
       "    </tr>\n",
       "  </thead>\n",
       "  <tbody>\n",
       "    <tr>\n",
       "      <th>0</th>\n",
       "      <td>536365</td>\n",
       "      <td>85123A</td>\n",
       "      <td>WHITE HANGING HEART T-LIGHT HOLDER</td>\n",
       "      <td>6</td>\n",
       "      <td>12/1/2010 8:26</td>\n",
       "      <td>2.55</td>\n",
       "      <td>17850.0</td>\n",
       "      <td>United Kingdom</td>\n",
       "    </tr>\n",
       "    <tr>\n",
       "      <th>1</th>\n",
       "      <td>536365</td>\n",
       "      <td>71053</td>\n",
       "      <td>WHITE METAL LANTERN</td>\n",
       "      <td>6</td>\n",
       "      <td>12/1/2010 8:26</td>\n",
       "      <td>3.39</td>\n",
       "      <td>17850.0</td>\n",
       "      <td>United Kingdom</td>\n",
       "    </tr>\n",
       "    <tr>\n",
       "      <th>2</th>\n",
       "      <td>536365</td>\n",
       "      <td>84406B</td>\n",
       "      <td>CREAM CUPID HEARTS COAT HANGER</td>\n",
       "      <td>8</td>\n",
       "      <td>12/1/2010 8:26</td>\n",
       "      <td>2.75</td>\n",
       "      <td>17850.0</td>\n",
       "      <td>United Kingdom</td>\n",
       "    </tr>\n",
       "    <tr>\n",
       "      <th>3</th>\n",
       "      <td>536365</td>\n",
       "      <td>84029G</td>\n",
       "      <td>KNITTED UNION FLAG HOT WATER BOTTLE</td>\n",
       "      <td>6</td>\n",
       "      <td>12/1/2010 8:26</td>\n",
       "      <td>3.39</td>\n",
       "      <td>17850.0</td>\n",
       "      <td>United Kingdom</td>\n",
       "    </tr>\n",
       "    <tr>\n",
       "      <th>4</th>\n",
       "      <td>536365</td>\n",
       "      <td>84029E</td>\n",
       "      <td>RED WOOLLY HOTTIE WHITE HEART.</td>\n",
       "      <td>6</td>\n",
       "      <td>12/1/2010 8:26</td>\n",
       "      <td>3.39</td>\n",
       "      <td>17850.0</td>\n",
       "      <td>United Kingdom</td>\n",
       "    </tr>\n",
       "  </tbody>\n",
       "</table>\n",
       "</div>"
      ],
      "text/plain": [
       "  InvoiceNo StockCode                          Description  Quantity  \\\n",
       "0    536365    85123A   WHITE HANGING HEART T-LIGHT HOLDER         6   \n",
       "1    536365     71053                  WHITE METAL LANTERN         6   \n",
       "2    536365    84406B       CREAM CUPID HEARTS COAT HANGER         8   \n",
       "3    536365    84029G  KNITTED UNION FLAG HOT WATER BOTTLE         6   \n",
       "4    536365    84029E       RED WOOLLY HOTTIE WHITE HEART.         6   \n",
       "\n",
       "      InvoiceDate  UnitPrice  CustomerID         Country  \n",
       "0  12/1/2010 8:26       2.55     17850.0  United Kingdom  \n",
       "1  12/1/2010 8:26       3.39     17850.0  United Kingdom  \n",
       "2  12/1/2010 8:26       2.75     17850.0  United Kingdom  \n",
       "3  12/1/2010 8:26       3.39     17850.0  United Kingdom  \n",
       "4  12/1/2010 8:26       3.39     17850.0  United Kingdom  "
      ]
     },
     "execution_count": 11,
     "metadata": {},
     "output_type": "execute_result"
    }
   ],
   "source": [
    "df.head()"
   ]
  },
  {
   "cell_type": "markdown",
   "metadata": {},
   "source": [
    "<span style=\"font-family: 'Bookman Old Style', sans-serif; font-size: 16px;\"> Date Formatting </span>"
   ]
  },
  {
   "cell_type": "code",
   "execution_count": 12,
   "metadata": {
    "execution": {
     "iopub.execute_input": "2023-08-15T19:58:24.155796Z",
     "iopub.status.busy": "2023-08-15T19:58:24.155460Z",
     "iopub.status.idle": "2023-08-15T19:58:27.861786Z",
     "shell.execute_reply": "2023-08-15T19:58:27.860621Z",
     "shell.execute_reply.started": "2023-08-15T19:58:24.155767Z"
    }
   },
   "outputs": [],
   "source": [
    "df['Date'] = pd.to_datetime(df['InvoiceDate'])\n",
    "df['Month-Year'] = df['Date'].dt.strftime('%b-%Y')\n",
    "df.drop(['InvoiceDate','Date'],axis=1,inplace=True)"
   ]
  },
  {
   "cell_type": "code",
   "execution_count": 13,
   "metadata": {
    "execution": {
     "iopub.execute_input": "2023-08-15T19:58:27.863913Z",
     "iopub.status.busy": "2023-08-15T19:58:27.863297Z",
     "iopub.status.idle": "2023-08-15T19:58:27.869311Z",
     "shell.execute_reply": "2023-08-15T19:58:27.868242Z",
     "shell.execute_reply.started": "2023-08-15T19:58:27.863872Z"
    }
   },
   "outputs": [],
   "source": [
    "df.reset_index(drop=True, inplace=True)"
   ]
  },
  {
   "cell_type": "code",
   "execution_count": 14,
   "metadata": {
    "execution": {
     "iopub.execute_input": "2023-08-15T19:58:27.871829Z",
     "iopub.status.busy": "2023-08-15T19:58:27.871069Z",
     "iopub.status.idle": "2023-08-15T19:58:27.898381Z",
     "shell.execute_reply": "2023-08-15T19:58:27.897109Z",
     "shell.execute_reply.started": "2023-08-15T19:58:27.871787Z"
    }
   },
   "outputs": [
    {
     "data": {
      "text/html": [
       "<div>\n",
       "<style scoped>\n",
       "    .dataframe tbody tr th:only-of-type {\n",
       "        vertical-align: middle;\n",
       "    }\n",
       "\n",
       "    .dataframe tbody tr th {\n",
       "        vertical-align: top;\n",
       "    }\n",
       "\n",
       "    .dataframe thead th {\n",
       "        text-align: right;\n",
       "    }\n",
       "</style>\n",
       "<table border=\"1\" class=\"dataframe\">\n",
       "  <thead>\n",
       "    <tr style=\"text-align: right;\">\n",
       "      <th></th>\n",
       "      <th>InvoiceNo</th>\n",
       "      <th>StockCode</th>\n",
       "      <th>Description</th>\n",
       "      <th>Quantity</th>\n",
       "      <th>UnitPrice</th>\n",
       "      <th>CustomerID</th>\n",
       "      <th>Country</th>\n",
       "      <th>Month-Year</th>\n",
       "    </tr>\n",
       "  </thead>\n",
       "  <tbody>\n",
       "    <tr>\n",
       "      <th>0</th>\n",
       "      <td>536365</td>\n",
       "      <td>85123A</td>\n",
       "      <td>WHITE HANGING HEART T-LIGHT HOLDER</td>\n",
       "      <td>6</td>\n",
       "      <td>2.55</td>\n",
       "      <td>17850.0</td>\n",
       "      <td>United Kingdom</td>\n",
       "      <td>Dec-2010</td>\n",
       "    </tr>\n",
       "    <tr>\n",
       "      <th>1</th>\n",
       "      <td>536365</td>\n",
       "      <td>71053</td>\n",
       "      <td>WHITE METAL LANTERN</td>\n",
       "      <td>6</td>\n",
       "      <td>3.39</td>\n",
       "      <td>17850.0</td>\n",
       "      <td>United Kingdom</td>\n",
       "      <td>Dec-2010</td>\n",
       "    </tr>\n",
       "    <tr>\n",
       "      <th>2</th>\n",
       "      <td>536365</td>\n",
       "      <td>84406B</td>\n",
       "      <td>CREAM CUPID HEARTS COAT HANGER</td>\n",
       "      <td>8</td>\n",
       "      <td>2.75</td>\n",
       "      <td>17850.0</td>\n",
       "      <td>United Kingdom</td>\n",
       "      <td>Dec-2010</td>\n",
       "    </tr>\n",
       "    <tr>\n",
       "      <th>3</th>\n",
       "      <td>536365</td>\n",
       "      <td>84029G</td>\n",
       "      <td>KNITTED UNION FLAG HOT WATER BOTTLE</td>\n",
       "      <td>6</td>\n",
       "      <td>3.39</td>\n",
       "      <td>17850.0</td>\n",
       "      <td>United Kingdom</td>\n",
       "      <td>Dec-2010</td>\n",
       "    </tr>\n",
       "    <tr>\n",
       "      <th>4</th>\n",
       "      <td>536365</td>\n",
       "      <td>84029E</td>\n",
       "      <td>RED WOOLLY HOTTIE WHITE HEART.</td>\n",
       "      <td>6</td>\n",
       "      <td>3.39</td>\n",
       "      <td>17850.0</td>\n",
       "      <td>United Kingdom</td>\n",
       "      <td>Dec-2010</td>\n",
       "    </tr>\n",
       "    <tr>\n",
       "      <th>...</th>\n",
       "      <td>...</td>\n",
       "      <td>...</td>\n",
       "      <td>...</td>\n",
       "      <td>...</td>\n",
       "      <td>...</td>\n",
       "      <td>...</td>\n",
       "      <td>...</td>\n",
       "      <td>...</td>\n",
       "    </tr>\n",
       "    <tr>\n",
       "      <th>406824</th>\n",
       "      <td>581587</td>\n",
       "      <td>22613</td>\n",
       "      <td>PACK OF 20 SPACEBOY NAPKINS</td>\n",
       "      <td>12</td>\n",
       "      <td>0.85</td>\n",
       "      <td>12680.0</td>\n",
       "      <td>France</td>\n",
       "      <td>Dec-2011</td>\n",
       "    </tr>\n",
       "    <tr>\n",
       "      <th>406825</th>\n",
       "      <td>581587</td>\n",
       "      <td>22899</td>\n",
       "      <td>CHILDREN'S APRON DOLLY GIRL</td>\n",
       "      <td>6</td>\n",
       "      <td>2.10</td>\n",
       "      <td>12680.0</td>\n",
       "      <td>France</td>\n",
       "      <td>Dec-2011</td>\n",
       "    </tr>\n",
       "    <tr>\n",
       "      <th>406826</th>\n",
       "      <td>581587</td>\n",
       "      <td>23254</td>\n",
       "      <td>CHILDRENS CUTLERY DOLLY GIRL</td>\n",
       "      <td>4</td>\n",
       "      <td>4.15</td>\n",
       "      <td>12680.0</td>\n",
       "      <td>France</td>\n",
       "      <td>Dec-2011</td>\n",
       "    </tr>\n",
       "    <tr>\n",
       "      <th>406827</th>\n",
       "      <td>581587</td>\n",
       "      <td>23255</td>\n",
       "      <td>CHILDRENS CUTLERY CIRCUS PARADE</td>\n",
       "      <td>4</td>\n",
       "      <td>4.15</td>\n",
       "      <td>12680.0</td>\n",
       "      <td>France</td>\n",
       "      <td>Dec-2011</td>\n",
       "    </tr>\n",
       "    <tr>\n",
       "      <th>406828</th>\n",
       "      <td>581587</td>\n",
       "      <td>22138</td>\n",
       "      <td>BAKING SET 9 PIECE RETROSPOT</td>\n",
       "      <td>3</td>\n",
       "      <td>4.95</td>\n",
       "      <td>12680.0</td>\n",
       "      <td>France</td>\n",
       "      <td>Dec-2011</td>\n",
       "    </tr>\n",
       "  </tbody>\n",
       "</table>\n",
       "<p>406829 rows × 8 columns</p>\n",
       "</div>"
      ],
      "text/plain": [
       "       InvoiceNo StockCode                          Description  Quantity  \\\n",
       "0         536365    85123A   WHITE HANGING HEART T-LIGHT HOLDER         6   \n",
       "1         536365     71053                  WHITE METAL LANTERN         6   \n",
       "2         536365    84406B       CREAM CUPID HEARTS COAT HANGER         8   \n",
       "3         536365    84029G  KNITTED UNION FLAG HOT WATER BOTTLE         6   \n",
       "4         536365    84029E       RED WOOLLY HOTTIE WHITE HEART.         6   \n",
       "...          ...       ...                                  ...       ...   \n",
       "406824    581587     22613          PACK OF 20 SPACEBOY NAPKINS        12   \n",
       "406825    581587     22899         CHILDREN'S APRON DOLLY GIRL          6   \n",
       "406826    581587     23254        CHILDRENS CUTLERY DOLLY GIRL          4   \n",
       "406827    581587     23255      CHILDRENS CUTLERY CIRCUS PARADE         4   \n",
       "406828    581587     22138        BAKING SET 9 PIECE RETROSPOT          3   \n",
       "\n",
       "        UnitPrice  CustomerID         Country Month-Year  \n",
       "0            2.55     17850.0  United Kingdom   Dec-2010  \n",
       "1            3.39     17850.0  United Kingdom   Dec-2010  \n",
       "2            2.75     17850.0  United Kingdom   Dec-2010  \n",
       "3            3.39     17850.0  United Kingdom   Dec-2010  \n",
       "4            3.39     17850.0  United Kingdom   Dec-2010  \n",
       "...           ...         ...             ...        ...  \n",
       "406824       0.85     12680.0          France   Dec-2011  \n",
       "406825       2.10     12680.0          France   Dec-2011  \n",
       "406826       4.15     12680.0          France   Dec-2011  \n",
       "406827       4.15     12680.0          France   Dec-2011  \n",
       "406828       4.95     12680.0          France   Dec-2011  \n",
       "\n",
       "[406829 rows x 8 columns]"
      ]
     },
     "execution_count": 14,
     "metadata": {},
     "output_type": "execute_result"
    }
   ],
   "source": [
    "df"
   ]
  },
  {
   "cell_type": "markdown",
   "metadata": {},
   "source": [
    "<span style=\"font-family: 'Bookman Old Style', sans-serif; font-size: 16px;\"> Checking Some Statistics </span>"
   ]
  },
  {
   "cell_type": "code",
   "execution_count": 15,
   "metadata": {
    "execution": {
     "iopub.execute_input": "2023-08-15T19:58:27.900378Z",
     "iopub.status.busy": "2023-08-15T19:58:27.900012Z",
     "iopub.status.idle": "2023-08-15T19:58:27.960876Z",
     "shell.execute_reply": "2023-08-15T19:58:27.959507Z",
     "shell.execute_reply.started": "2023-08-15T19:58:27.900341Z"
    }
   },
   "outputs": [
    {
     "data": {
      "text/plain": [
       "WHITE HANGING HEART T-LIGHT HOLDER    2070\n",
       "REGENCY CAKESTAND 3 TIER              1905\n",
       "JUMBO BAG RED RETROSPOT               1662\n",
       "ASSORTED COLOUR BIRD ORNAMENT         1418\n",
       "PARTY BUNTING                         1416\n",
       "                                      ... \n",
       "ANTIQUE RASPBERRY FLOWER EARRINGS        1\n",
       "WALL ART,ONLY ONE PERSON                 1\n",
       "GOLD/AMBER DROP EARRINGS W LEAF          1\n",
       "INCENSE BAZAAR PEACH                     1\n",
       "PINK BAROQUE FLOCK CANDLE HOLDER         1\n",
       "Name: Description, Length: 3896, dtype: int64"
      ]
     },
     "execution_count": 15,
     "metadata": {},
     "output_type": "execute_result"
    }
   ],
   "source": [
    "df['Description'].value_counts()"
   ]
  },
  {
   "cell_type": "code",
   "execution_count": 16,
   "metadata": {
    "execution": {
     "iopub.execute_input": "2023-08-15T19:58:27.962872Z",
     "iopub.status.busy": "2023-08-15T19:58:27.962399Z",
     "iopub.status.idle": "2023-08-15T19:58:27.968423Z",
     "shell.execute_reply": "2023-08-15T19:58:27.967116Z",
     "shell.execute_reply.started": "2023-08-15T19:58:27.962831Z"
    }
   },
   "outputs": [],
   "source": [
    "columns=[\"Description\", \"Quantity\", \"UnitPrice\" ]"
   ]
  },
  {
   "cell_type": "markdown",
   "metadata": {},
   "source": [
    "<span style=\"font-family: 'Bookman Old Style', sans-serif; font-size: 16px;\"> Analyzing Items </span>"
   ]
  },
  {
   "cell_type": "code",
   "execution_count": 17,
   "metadata": {
    "execution": {
     "iopub.execute_input": "2023-08-15T19:58:27.970583Z",
     "iopub.status.busy": "2023-08-15T19:58:27.970115Z",
     "iopub.status.idle": "2023-08-15T19:58:28.107019Z",
     "shell.execute_reply": "2023-08-15T19:58:28.105984Z",
     "shell.execute_reply.started": "2023-08-15T19:58:27.970544Z"
    }
   },
   "outputs": [
    {
     "data": {
      "text/html": [
       "<div>\n",
       "<style scoped>\n",
       "    .dataframe tbody tr th:only-of-type {\n",
       "        vertical-align: middle;\n",
       "    }\n",
       "\n",
       "    .dataframe tbody tr th {\n",
       "        vertical-align: top;\n",
       "    }\n",
       "\n",
       "    .dataframe thead th {\n",
       "        text-align: right;\n",
       "    }\n",
       "</style>\n",
       "<table border=\"1\" class=\"dataframe\">\n",
       "  <thead>\n",
       "    <tr style=\"text-align: right;\">\n",
       "      <th></th>\n",
       "      <th>Description</th>\n",
       "      <th>Quantity</th>\n",
       "      <th>UnitPrice</th>\n",
       "    </tr>\n",
       "  </thead>\n",
       "  <tbody>\n",
       "    <tr>\n",
       "      <th>0</th>\n",
       "      <td>WHITE HANGING HEART T-LIGHT HOLDER</td>\n",
       "      <td>6</td>\n",
       "      <td>2.55</td>\n",
       "    </tr>\n",
       "    <tr>\n",
       "      <th>49</th>\n",
       "      <td>WHITE HANGING HEART T-LIGHT HOLDER</td>\n",
       "      <td>6</td>\n",
       "      <td>2.55</td>\n",
       "    </tr>\n",
       "    <tr>\n",
       "      <th>66</th>\n",
       "      <td>WHITE HANGING HEART T-LIGHT HOLDER</td>\n",
       "      <td>6</td>\n",
       "      <td>2.55</td>\n",
       "    </tr>\n",
       "    <tr>\n",
       "      <th>220</th>\n",
       "      <td>WHITE HANGING HEART T-LIGHT HOLDER</td>\n",
       "      <td>64</td>\n",
       "      <td>2.55</td>\n",
       "    </tr>\n",
       "    <tr>\n",
       "      <th>262</th>\n",
       "      <td>WHITE HANGING HEART T-LIGHT HOLDER</td>\n",
       "      <td>32</td>\n",
       "      <td>2.55</td>\n",
       "    </tr>\n",
       "    <tr>\n",
       "      <th>...</th>\n",
       "      <td>...</td>\n",
       "      <td>...</td>\n",
       "      <td>...</td>\n",
       "    </tr>\n",
       "    <tr>\n",
       "      <th>403929</th>\n",
       "      <td>WHITE HANGING HEART T-LIGHT HOLDER</td>\n",
       "      <td>1</td>\n",
       "      <td>2.95</td>\n",
       "    </tr>\n",
       "    <tr>\n",
       "      <th>403964</th>\n",
       "      <td>WHITE HANGING HEART T-LIGHT HOLDER</td>\n",
       "      <td>2</td>\n",
       "      <td>2.95</td>\n",
       "    </tr>\n",
       "    <tr>\n",
       "      <th>404428</th>\n",
       "      <td>WHITE HANGING HEART T-LIGHT HOLDER</td>\n",
       "      <td>6</td>\n",
       "      <td>2.95</td>\n",
       "    </tr>\n",
       "    <tr>\n",
       "      <th>405907</th>\n",
       "      <td>WHITE HANGING HEART T-LIGHT HOLDER</td>\n",
       "      <td>32</td>\n",
       "      <td>2.55</td>\n",
       "    </tr>\n",
       "    <tr>\n",
       "      <th>406145</th>\n",
       "      <td>WHITE HANGING HEART T-LIGHT HOLDER</td>\n",
       "      <td>6</td>\n",
       "      <td>2.95</td>\n",
       "    </tr>\n",
       "  </tbody>\n",
       "</table>\n",
       "<p>2070 rows × 3 columns</p>\n",
       "</div>"
      ],
      "text/plain": [
       "                               Description  Quantity  UnitPrice\n",
       "0       WHITE HANGING HEART T-LIGHT HOLDER         6       2.55\n",
       "49      WHITE HANGING HEART T-LIGHT HOLDER         6       2.55\n",
       "66      WHITE HANGING HEART T-LIGHT HOLDER         6       2.55\n",
       "220     WHITE HANGING HEART T-LIGHT HOLDER        64       2.55\n",
       "262     WHITE HANGING HEART T-LIGHT HOLDER        32       2.55\n",
       "...                                    ...       ...        ...\n",
       "403929  WHITE HANGING HEART T-LIGHT HOLDER         1       2.95\n",
       "403964  WHITE HANGING HEART T-LIGHT HOLDER         2       2.95\n",
       "404428  WHITE HANGING HEART T-LIGHT HOLDER         6       2.95\n",
       "405907  WHITE HANGING HEART T-LIGHT HOLDER        32       2.55\n",
       "406145  WHITE HANGING HEART T-LIGHT HOLDER         6       2.95\n",
       "\n",
       "[2070 rows x 3 columns]"
      ]
     },
     "execution_count": 17,
     "metadata": {},
     "output_type": "execute_result"
    }
   ],
   "source": [
    "df_max = df[df['Description'] == \"WHITE HANGING HEART T-LIGHT HOLDER\"][columns]\n",
    "df_max"
   ]
  },
  {
   "cell_type": "code",
   "execution_count": 18,
   "metadata": {
    "execution": {
     "iopub.execute_input": "2023-08-15T19:58:28.108432Z",
     "iopub.status.busy": "2023-08-15T19:58:28.108127Z",
     "iopub.status.idle": "2023-08-15T19:58:28.179193Z",
     "shell.execute_reply": "2023-08-15T19:58:28.178425Z",
     "shell.execute_reply.started": "2023-08-15T19:58:28.108406Z"
    }
   },
   "outputs": [
    {
     "data": {
      "text/html": [
       "<div>\n",
       "<style scoped>\n",
       "    .dataframe tbody tr th:only-of-type {\n",
       "        vertical-align: middle;\n",
       "    }\n",
       "\n",
       "    .dataframe tbody tr th {\n",
       "        vertical-align: top;\n",
       "    }\n",
       "\n",
       "    .dataframe thead th {\n",
       "        text-align: right;\n",
       "    }\n",
       "</style>\n",
       "<table border=\"1\" class=\"dataframe\">\n",
       "  <thead>\n",
       "    <tr style=\"text-align: right;\">\n",
       "      <th></th>\n",
       "      <th>Description</th>\n",
       "      <th>Total Quantity</th>\n",
       "    </tr>\n",
       "  </thead>\n",
       "  <tbody>\n",
       "    <tr>\n",
       "      <th>0</th>\n",
       "      <td>4 PURPLE FLOCK DINNER CANDLES</td>\n",
       "      <td>140</td>\n",
       "    </tr>\n",
       "    <tr>\n",
       "      <th>1</th>\n",
       "      <td>50'S CHRISTMAS GIFT BAG LARGE</td>\n",
       "      <td>1883</td>\n",
       "    </tr>\n",
       "    <tr>\n",
       "      <th>2</th>\n",
       "      <td>DOLLY GIRL BEAKER</td>\n",
       "      <td>2391</td>\n",
       "    </tr>\n",
       "    <tr>\n",
       "      <th>3</th>\n",
       "      <td>I LOVE LONDON MINI BACKPACK</td>\n",
       "      <td>360</td>\n",
       "    </tr>\n",
       "    <tr>\n",
       "      <th>4</th>\n",
       "      <td>I LOVE LONDON MINI RUCKSACK</td>\n",
       "      <td>1</td>\n",
       "    </tr>\n",
       "    <tr>\n",
       "      <th>...</th>\n",
       "      <td>...</td>\n",
       "      <td>...</td>\n",
       "    </tr>\n",
       "    <tr>\n",
       "      <th>3891</th>\n",
       "      <td>ZINC T-LIGHT HOLDER STARS SMALL</td>\n",
       "      <td>4850</td>\n",
       "    </tr>\n",
       "    <tr>\n",
       "      <th>3892</th>\n",
       "      <td>ZINC TOP  2 DOOR WOODEN SHELF</td>\n",
       "      <td>5</td>\n",
       "    </tr>\n",
       "    <tr>\n",
       "      <th>3893</th>\n",
       "      <td>ZINC WILLIE WINKIE  CANDLE STICK</td>\n",
       "      <td>2595</td>\n",
       "    </tr>\n",
       "    <tr>\n",
       "      <th>3894</th>\n",
       "      <td>ZINC WIRE KITCHEN ORGANISER</td>\n",
       "      <td>25</td>\n",
       "    </tr>\n",
       "    <tr>\n",
       "      <th>3895</th>\n",
       "      <td>ZINC WIRE SWEETHEART LETTER TRAY</td>\n",
       "      <td>80</td>\n",
       "    </tr>\n",
       "  </tbody>\n",
       "</table>\n",
       "<p>3896 rows × 2 columns</p>\n",
       "</div>"
      ],
      "text/plain": [
       "                           Description  Total Quantity\n",
       "0        4 PURPLE FLOCK DINNER CANDLES             140\n",
       "1        50'S CHRISTMAS GIFT BAG LARGE            1883\n",
       "2                    DOLLY GIRL BEAKER            2391\n",
       "3          I LOVE LONDON MINI BACKPACK             360\n",
       "4          I LOVE LONDON MINI RUCKSACK               1\n",
       "...                                ...             ...\n",
       "3891   ZINC T-LIGHT HOLDER STARS SMALL            4850\n",
       "3892    ZINC TOP  2 DOOR WOODEN SHELF                5\n",
       "3893  ZINC WILLIE WINKIE  CANDLE STICK            2595\n",
       "3894       ZINC WIRE KITCHEN ORGANISER              25\n",
       "3895  ZINC WIRE SWEETHEART LETTER TRAY              80\n",
       "\n",
       "[3896 rows x 2 columns]"
      ]
     },
     "execution_count": 18,
     "metadata": {},
     "output_type": "execute_result"
    }
   ],
   "source": [
    "#check quantity of all different items\n",
    "df_quan = df.groupby('Description')['Quantity'].sum().reset_index()\n",
    "df_quan.columns = ['Description', 'Total Quantity']\n",
    "df_quan"
   ]
  },
  {
   "cell_type": "code",
   "execution_count": 19,
   "metadata": {
    "execution": {
     "iopub.execute_input": "2023-08-15T19:58:28.181067Z",
     "iopub.status.busy": "2023-08-15T19:58:28.180260Z",
     "iopub.status.idle": "2023-08-15T19:58:28.197634Z",
     "shell.execute_reply": "2023-08-15T19:58:28.196636Z",
     "shell.execute_reply.started": "2023-08-15T19:58:28.181036Z"
    }
   },
   "outputs": [
    {
     "data": {
      "text/html": [
       "<div>\n",
       "<style scoped>\n",
       "    .dataframe tbody tr th:only-of-type {\n",
       "        vertical-align: middle;\n",
       "    }\n",
       "\n",
       "    .dataframe tbody tr th {\n",
       "        vertical-align: top;\n",
       "    }\n",
       "\n",
       "    .dataframe thead th {\n",
       "        text-align: right;\n",
       "    }\n",
       "</style>\n",
       "<table border=\"1\" class=\"dataframe\">\n",
       "  <thead>\n",
       "    <tr style=\"text-align: right;\">\n",
       "      <th></th>\n",
       "      <th>Description</th>\n",
       "      <th>Total Quantity</th>\n",
       "    </tr>\n",
       "  </thead>\n",
       "  <tbody>\n",
       "    <tr>\n",
       "      <th>3805</th>\n",
       "      <td>WORLD WAR 2 GLIDERS ASSTD DESIGNS</td>\n",
       "      <td>53215</td>\n",
       "    </tr>\n",
       "    <tr>\n",
       "      <th>1771</th>\n",
       "      <td>JUMBO BAG RED RETROSPOT</td>\n",
       "      <td>45066</td>\n",
       "    </tr>\n",
       "    <tr>\n",
       "      <th>217</th>\n",
       "      <td>ASSORTED COLOUR BIRD ORNAMENT</td>\n",
       "      <td>35314</td>\n",
       "    </tr>\n",
       "    <tr>\n",
       "      <th>3716</th>\n",
       "      <td>WHITE HANGING HEART T-LIGHT HOLDER</td>\n",
       "      <td>34147</td>\n",
       "    </tr>\n",
       "    <tr>\n",
       "      <th>2279</th>\n",
       "      <td>PACK OF 72 RETROSPOT CAKE CASES</td>\n",
       "      <td>33409</td>\n",
       "    </tr>\n",
       "    <tr>\n",
       "      <th>2612</th>\n",
       "      <td>POPCORN HOLDER</td>\n",
       "      <td>30504</td>\n",
       "    </tr>\n",
       "    <tr>\n",
       "      <th>2669</th>\n",
       "      <td>RABBIT NIGHT LIGHT</td>\n",
       "      <td>27094</td>\n",
       "    </tr>\n",
       "    <tr>\n",
       "      <th>2057</th>\n",
       "      <td>MINI PAINT SET VINTAGE</td>\n",
       "      <td>25880</td>\n",
       "    </tr>\n",
       "    <tr>\n",
       "      <th>2245</th>\n",
       "      <td>PACK OF 12 LONDON TISSUES</td>\n",
       "      <td>25321</td>\n",
       "    </tr>\n",
       "    <tr>\n",
       "      <th>2277</th>\n",
       "      <td>PACK OF 60 PINK PAISLEY CAKE CASES</td>\n",
       "      <td>24163</td>\n",
       "    </tr>\n",
       "    <tr>\n",
       "      <th>543</th>\n",
       "      <td>BROCADE RING PURSE</td>\n",
       "      <td>22960</td>\n",
       "    </tr>\n",
       "    <tr>\n",
       "      <th>3550</th>\n",
       "      <td>VICTORIAN GLASS HANGING T-LIGHT</td>\n",
       "      <td>21984</td>\n",
       "    </tr>\n",
       "    <tr>\n",
       "      <th>225</th>\n",
       "      <td>ASSORTED COLOURS SILK FAN</td>\n",
       "      <td>21132</td>\n",
       "    </tr>\n",
       "    <tr>\n",
       "      <th>2693</th>\n",
       "      <td>RED  HARMONICA IN BOX</td>\n",
       "      <td>20912</td>\n",
       "    </tr>\n",
       "    <tr>\n",
       "      <th>1769</th>\n",
       "      <td>JUMBO BAG PINK POLKADOT</td>\n",
       "      <td>19709</td>\n",
       "    </tr>\n",
       "  </tbody>\n",
       "</table>\n",
       "</div>"
      ],
      "text/plain": [
       "                             Description  Total Quantity\n",
       "3805   WORLD WAR 2 GLIDERS ASSTD DESIGNS           53215\n",
       "1771             JUMBO BAG RED RETROSPOT           45066\n",
       "217        ASSORTED COLOUR BIRD ORNAMENT           35314\n",
       "3716  WHITE HANGING HEART T-LIGHT HOLDER           34147\n",
       "2279     PACK OF 72 RETROSPOT CAKE CASES           33409\n",
       "2612                      POPCORN HOLDER           30504\n",
       "2669                  RABBIT NIGHT LIGHT           27094\n",
       "2057             MINI PAINT SET VINTAGE            25880\n",
       "2245          PACK OF 12 LONDON TISSUES            25321\n",
       "2277  PACK OF 60 PINK PAISLEY CAKE CASES           24163\n",
       "543                  BROCADE RING PURSE            22960\n",
       "3550     VICTORIAN GLASS HANGING T-LIGHT           21984\n",
       "225            ASSORTED COLOURS SILK FAN           21132\n",
       "2693              RED  HARMONICA IN BOX            20912\n",
       "1769             JUMBO BAG PINK POLKADOT           19709"
      ]
     },
     "execution_count": 19,
     "metadata": {},
     "output_type": "execute_result"
    }
   ],
   "source": [
    "df_quan_top15 = df_quan.nlargest(15, 'Total Quantity')\n",
    "df_quan_top15"
   ]
  },
  {
   "cell_type": "code",
   "execution_count": 20,
   "metadata": {
    "execution": {
     "iopub.execute_input": "2023-08-15T19:58:28.199299Z",
     "iopub.status.busy": "2023-08-15T19:58:28.198789Z",
     "iopub.status.idle": "2023-08-15T19:58:28.702831Z",
     "shell.execute_reply": "2023-08-15T19:58:28.701925Z",
     "shell.execute_reply.started": "2023-08-15T19:58:28.199262Z"
    }
   },
   "outputs": [
    {
     "data": {
      "image/png": "[encoded data removed]",
      "text/plain": [
       "<Figure size 1500x1000 with 1 Axes>"
      ]
     },
     "metadata": {},
     "output_type": "display_data"
    }
   ],
   "source": [
    "plt.figure(figsize=(15, 10))\n",
    "sns.barplot(data=df_quan_top15, x=\"Total Quantity\", y=\"Description\", capsize=3, palette=\"magma\")\n",
    "plt.title(\"Top 10 Items Sold by Total Quantity\")\n",
    "plt.xlabel(\"Total Quantity\")\n",
    "plt.ylabel(\"Description\")\n",
    "plt.show()"
   ]
  },
  {
   "cell_type": "code",
   "execution_count": 21,
   "metadata": {
    "execution": {
     "iopub.execute_input": "2023-08-15T19:58:28.705059Z",
     "iopub.status.busy": "2023-08-15T19:58:28.704483Z",
     "iopub.status.idle": "2023-08-15T19:58:28.726478Z",
     "shell.execute_reply": "2023-08-15T19:58:28.725252Z",
     "shell.execute_reply.started": "2023-08-15T19:58:28.705024Z"
    }
   },
   "outputs": [
    {
     "data": {
      "text/html": [
       "<div>\n",
       "<style scoped>\n",
       "    .dataframe tbody tr th:only-of-type {\n",
       "        vertical-align: middle;\n",
       "    }\n",
       "\n",
       "    .dataframe tbody tr th {\n",
       "        vertical-align: top;\n",
       "    }\n",
       "\n",
       "    .dataframe thead th {\n",
       "        text-align: right;\n",
       "    }\n",
       "</style>\n",
       "<table border=\"1\" class=\"dataframe\">\n",
       "  <thead>\n",
       "    <tr style=\"text-align: right;\">\n",
       "      <th></th>\n",
       "      <th>InvoiceNo</th>\n",
       "      <th>StockCode</th>\n",
       "      <th>Description</th>\n",
       "      <th>Quantity</th>\n",
       "      <th>UnitPrice</th>\n",
       "      <th>CustomerID</th>\n",
       "      <th>Country</th>\n",
       "      <th>Month-Year</th>\n",
       "    </tr>\n",
       "  </thead>\n",
       "  <tbody>\n",
       "    <tr>\n",
       "      <th>0</th>\n",
       "      <td>536365</td>\n",
       "      <td>85123A</td>\n",
       "      <td>WHITE HANGING HEART T-LIGHT HOLDER</td>\n",
       "      <td>6</td>\n",
       "      <td>2.55</td>\n",
       "      <td>17850.0</td>\n",
       "      <td>United Kingdom</td>\n",
       "      <td>Dec-2010</td>\n",
       "    </tr>\n",
       "    <tr>\n",
       "      <th>1</th>\n",
       "      <td>536365</td>\n",
       "      <td>71053</td>\n",
       "      <td>WHITE METAL LANTERN</td>\n",
       "      <td>6</td>\n",
       "      <td>3.39</td>\n",
       "      <td>17850.0</td>\n",
       "      <td>United Kingdom</td>\n",
       "      <td>Dec-2010</td>\n",
       "    </tr>\n",
       "    <tr>\n",
       "      <th>2</th>\n",
       "      <td>536365</td>\n",
       "      <td>84406B</td>\n",
       "      <td>CREAM CUPID HEARTS COAT HANGER</td>\n",
       "      <td>8</td>\n",
       "      <td>2.75</td>\n",
       "      <td>17850.0</td>\n",
       "      <td>United Kingdom</td>\n",
       "      <td>Dec-2010</td>\n",
       "    </tr>\n",
       "    <tr>\n",
       "      <th>3</th>\n",
       "      <td>536365</td>\n",
       "      <td>84029G</td>\n",
       "      <td>KNITTED UNION FLAG HOT WATER BOTTLE</td>\n",
       "      <td>6</td>\n",
       "      <td>3.39</td>\n",
       "      <td>17850.0</td>\n",
       "      <td>United Kingdom</td>\n",
       "      <td>Dec-2010</td>\n",
       "    </tr>\n",
       "    <tr>\n",
       "      <th>4</th>\n",
       "      <td>536365</td>\n",
       "      <td>84029E</td>\n",
       "      <td>RED WOOLLY HOTTIE WHITE HEART.</td>\n",
       "      <td>6</td>\n",
       "      <td>3.39</td>\n",
       "      <td>17850.0</td>\n",
       "      <td>United Kingdom</td>\n",
       "      <td>Dec-2010</td>\n",
       "    </tr>\n",
       "    <tr>\n",
       "      <th>...</th>\n",
       "      <td>...</td>\n",
       "      <td>...</td>\n",
       "      <td>...</td>\n",
       "      <td>...</td>\n",
       "      <td>...</td>\n",
       "      <td>...</td>\n",
       "      <td>...</td>\n",
       "      <td>...</td>\n",
       "    </tr>\n",
       "    <tr>\n",
       "      <th>406824</th>\n",
       "      <td>581587</td>\n",
       "      <td>22613</td>\n",
       "      <td>PACK OF 20 SPACEBOY NAPKINS</td>\n",
       "      <td>12</td>\n",
       "      <td>0.85</td>\n",
       "      <td>12680.0</td>\n",
       "      <td>France</td>\n",
       "      <td>Dec-2011</td>\n",
       "    </tr>\n",
       "    <tr>\n",
       "      <th>406825</th>\n",
       "      <td>581587</td>\n",
       "      <td>22899</td>\n",
       "      <td>CHILDREN'S APRON DOLLY GIRL</td>\n",
       "      <td>6</td>\n",
       "      <td>2.10</td>\n",
       "      <td>12680.0</td>\n",
       "      <td>France</td>\n",
       "      <td>Dec-2011</td>\n",
       "    </tr>\n",
       "    <tr>\n",
       "      <th>406826</th>\n",
       "      <td>581587</td>\n",
       "      <td>23254</td>\n",
       "      <td>CHILDRENS CUTLERY DOLLY GIRL</td>\n",
       "      <td>4</td>\n",
       "      <td>4.15</td>\n",
       "      <td>12680.0</td>\n",
       "      <td>France</td>\n",
       "      <td>Dec-2011</td>\n",
       "    </tr>\n",
       "    <tr>\n",
       "      <th>406827</th>\n",
       "      <td>581587</td>\n",
       "      <td>23255</td>\n",
       "      <td>CHILDRENS CUTLERY CIRCUS PARADE</td>\n",
       "      <td>4</td>\n",
       "      <td>4.15</td>\n",
       "      <td>12680.0</td>\n",
       "      <td>France</td>\n",
       "      <td>Dec-2011</td>\n",
       "    </tr>\n",
       "    <tr>\n",
       "      <th>406828</th>\n",
       "      <td>581587</td>\n",
       "      <td>22138</td>\n",
       "      <td>BAKING SET 9 PIECE RETROSPOT</td>\n",
       "      <td>3</td>\n",
       "      <td>4.95</td>\n",
       "      <td>12680.0</td>\n",
       "      <td>France</td>\n",
       "      <td>Dec-2011</td>\n",
       "    </tr>\n",
       "  </tbody>\n",
       "</table>\n",
       "<p>406829 rows × 8 columns</p>\n",
       "</div>"
      ],
      "text/plain": [
       "       InvoiceNo StockCode                          Description  Quantity  \\\n",
       "0         536365    85123A   WHITE HANGING HEART T-LIGHT HOLDER         6   \n",
       "1         536365     71053                  WHITE METAL LANTERN         6   \n",
       "2         536365    84406B       CREAM CUPID HEARTS COAT HANGER         8   \n",
       "3         536365    84029G  KNITTED UNION FLAG HOT WATER BOTTLE         6   \n",
       "4         536365    84029E       RED WOOLLY HOTTIE WHITE HEART.         6   \n",
       "...          ...       ...                                  ...       ...   \n",
       "406824    581587     22613          PACK OF 20 SPACEBOY NAPKINS        12   \n",
       "406825    581587     22899         CHILDREN'S APRON DOLLY GIRL          6   \n",
       "406826    581587     23254        CHILDRENS CUTLERY DOLLY GIRL          4   \n",
       "406827    581587     23255      CHILDRENS CUTLERY CIRCUS PARADE         4   \n",
       "406828    581587     22138        BAKING SET 9 PIECE RETROSPOT          3   \n",
       "\n",
       "        UnitPrice  CustomerID         Country Month-Year  \n",
       "0            2.55     17850.0  United Kingdom   Dec-2010  \n",
       "1            3.39     17850.0  United Kingdom   Dec-2010  \n",
       "2            2.75     17850.0  United Kingdom   Dec-2010  \n",
       "3            3.39     17850.0  United Kingdom   Dec-2010  \n",
       "4            3.39     17850.0  United Kingdom   Dec-2010  \n",
       "...           ...         ...             ...        ...  \n",
       "406824       0.85     12680.0          France   Dec-2011  \n",
       "406825       2.10     12680.0          France   Dec-2011  \n",
       "406826       4.15     12680.0          France   Dec-2011  \n",
       "406827       4.15     12680.0          France   Dec-2011  \n",
       "406828       4.95     12680.0          France   Dec-2011  \n",
       "\n",
       "[406829 rows x 8 columns]"
      ]
     },
     "execution_count": 21,
     "metadata": {},
     "output_type": "execute_result"
    }
   ],
   "source": [
    "df"
   ]
  },
  {
   "cell_type": "code",
   "execution_count": 22,
   "metadata": {
    "execution": {
     "iopub.execute_input": "2023-08-15T19:58:28.728868Z",
     "iopub.status.busy": "2023-08-15T19:58:28.728465Z",
     "iopub.status.idle": "2023-08-15T19:58:28.748477Z",
     "shell.execute_reply": "2023-08-15T19:58:28.747475Z",
     "shell.execute_reply.started": "2023-08-15T19:58:28.728835Z"
    }
   },
   "outputs": [
    {
     "data": {
      "text/html": [
       "<div>\n",
       "<style scoped>\n",
       "    .dataframe tbody tr th:only-of-type {\n",
       "        vertical-align: middle;\n",
       "    }\n",
       "\n",
       "    .dataframe tbody tr th {\n",
       "        vertical-align: top;\n",
       "    }\n",
       "\n",
       "    .dataframe thead th {\n",
       "        text-align: right;\n",
       "    }\n",
       "</style>\n",
       "<table border=\"1\" class=\"dataframe\">\n",
       "  <thead>\n",
       "    <tr style=\"text-align: right;\">\n",
       "      <th></th>\n",
       "      <th>InvoiceNo</th>\n",
       "      <th>StockCode</th>\n",
       "      <th>Description</th>\n",
       "      <th>Quantity</th>\n",
       "      <th>UnitPrice</th>\n",
       "      <th>CustomerID</th>\n",
       "      <th>Country</th>\n",
       "      <th>Month-Year</th>\n",
       "      <th>Total Price</th>\n",
       "    </tr>\n",
       "  </thead>\n",
       "  <tbody>\n",
       "    <tr>\n",
       "      <th>0</th>\n",
       "      <td>536365</td>\n",
       "      <td>85123A</td>\n",
       "      <td>WHITE HANGING HEART T-LIGHT HOLDER</td>\n",
       "      <td>6</td>\n",
       "      <td>2.55</td>\n",
       "      <td>17850.0</td>\n",
       "      <td>United Kingdom</td>\n",
       "      <td>Dec-2010</td>\n",
       "      <td>15.30</td>\n",
       "    </tr>\n",
       "    <tr>\n",
       "      <th>1</th>\n",
       "      <td>536365</td>\n",
       "      <td>71053</td>\n",
       "      <td>WHITE METAL LANTERN</td>\n",
       "      <td>6</td>\n",
       "      <td>3.39</td>\n",
       "      <td>17850.0</td>\n",
       "      <td>United Kingdom</td>\n",
       "      <td>Dec-2010</td>\n",
       "      <td>20.34</td>\n",
       "    </tr>\n",
       "    <tr>\n",
       "      <th>2</th>\n",
       "      <td>536365</td>\n",
       "      <td>84406B</td>\n",
       "      <td>CREAM CUPID HEARTS COAT HANGER</td>\n",
       "      <td>8</td>\n",
       "      <td>2.75</td>\n",
       "      <td>17850.0</td>\n",
       "      <td>United Kingdom</td>\n",
       "      <td>Dec-2010</td>\n",
       "      <td>22.00</td>\n",
       "    </tr>\n",
       "    <tr>\n",
       "      <th>3</th>\n",
       "      <td>536365</td>\n",
       "      <td>84029G</td>\n",
       "      <td>KNITTED UNION FLAG HOT WATER BOTTLE</td>\n",
       "      <td>6</td>\n",
       "      <td>3.39</td>\n",
       "      <td>17850.0</td>\n",
       "      <td>United Kingdom</td>\n",
       "      <td>Dec-2010</td>\n",
       "      <td>20.34</td>\n",
       "    </tr>\n",
       "    <tr>\n",
       "      <th>4</th>\n",
       "      <td>536365</td>\n",
       "      <td>84029E</td>\n",
       "      <td>RED WOOLLY HOTTIE WHITE HEART.</td>\n",
       "      <td>6</td>\n",
       "      <td>3.39</td>\n",
       "      <td>17850.0</td>\n",
       "      <td>United Kingdom</td>\n",
       "      <td>Dec-2010</td>\n",
       "      <td>20.34</td>\n",
       "    </tr>\n",
       "  </tbody>\n",
       "</table>\n",
       "</div>"
      ],
      "text/plain": [
       "  InvoiceNo StockCode                          Description  Quantity  \\\n",
       "0    536365    85123A   WHITE HANGING HEART T-LIGHT HOLDER         6   \n",
       "1    536365     71053                  WHITE METAL LANTERN         6   \n",
       "2    536365    84406B       CREAM CUPID HEARTS COAT HANGER         8   \n",
       "3    536365    84029G  KNITTED UNION FLAG HOT WATER BOTTLE         6   \n",
       "4    536365    84029E       RED WOOLLY HOTTIE WHITE HEART.         6   \n",
       "\n",
       "   UnitPrice  CustomerID         Country Month-Year  Total Price  \n",
       "0       2.55     17850.0  United Kingdom   Dec-2010        15.30  \n",
       "1       3.39     17850.0  United Kingdom   Dec-2010        20.34  \n",
       "2       2.75     17850.0  United Kingdom   Dec-2010        22.00  \n",
       "3       3.39     17850.0  United Kingdom   Dec-2010        20.34  \n",
       "4       3.39     17850.0  United Kingdom   Dec-2010        20.34  "
      ]
     },
     "execution_count": 22,
     "metadata": {},
     "output_type": "execute_result"
    }
   ],
   "source": [
    "df['Total Price'] = df['UnitPrice'] * df['Quantity']\n",
    "df.head()"
   ]
  },
  {
   "cell_type": "markdown",
   "metadata": {},
   "source": [
    "<span style=\"font-family: 'Bookman Old Style', sans-serif; font-size: 16px;\"> HeatMap Analysis </span>"
   ]
  },
  {
   "cell_type": "code",
   "execution_count": 23,
   "metadata": {
    "execution": {
     "iopub.execute_input": "2023-08-15T19:58:28.750235Z",
     "iopub.status.busy": "2023-08-15T19:58:28.749825Z",
     "iopub.status.idle": "2023-08-15T19:58:29.132352Z",
     "shell.execute_reply": "2023-08-15T19:58:29.131206Z",
     "shell.execute_reply.started": "2023-08-15T19:58:28.750207Z"
    }
   },
   "outputs": [
    {
     "name": "stderr",
     "output_type": "stream",
     "text": [
      "/tmp/ipykernel_33/3358332889.py:1: FutureWarning: The default value of numeric_only in DataFrame.corr is deprecated. In a future version, it will default to False. Select only valid columns or specify the value of numeric_only to silence this warning.\n",
      "  sns.heatmap(df.corr(), cmap='Blues', annot=True, fmt=\".2f\")\n"
     ]
    },
    {
     "data": {
      "text/plain": [
       "<Axes: >"
      ]
     },
     "execution_count": 23,
     "metadata": {},
     "output_type": "execute_result"
    },
    {
     "data": {
      "image/png": "[encoded data removed]",
      "text/plain": [
       "<Figure size 640x480 with 2 Axes>"
      ]
     },
     "metadata": {},
     "output_type": "display_data"
    }
   ],
   "source": [
    "sns.heatmap(df.corr(), cmap='Blues', annot=True, fmt=\".2f\")"
   ]
  },
  {
   "cell_type": "markdown",
   "metadata": {},
   "source": [
    "<span style=\"font-family: 'Bookman Old Style', sans-serif; font-size: 16px;\"> From heatmap analysis, we can see that Total Price is in high correlation with Quantity (more over Total Price has been manipulated over quantity) only. </span>"
   ]
  },
  {
   "cell_type": "code",
   "execution_count": 24,
   "metadata": {
    "execution": {
     "iopub.execute_input": "2023-08-15T19:58:29.135054Z",
     "iopub.status.busy": "2023-08-15T19:58:29.133914Z",
     "iopub.status.idle": "2023-08-15T19:58:29.160860Z",
     "shell.execute_reply": "2023-08-15T19:58:29.159642Z",
     "shell.execute_reply.started": "2023-08-15T19:58:29.135008Z"
    }
   },
   "outputs": [
    {
     "data": {
      "text/html": [
       "<div>\n",
       "<style scoped>\n",
       "    .dataframe tbody tr th:only-of-type {\n",
       "        vertical-align: middle;\n",
       "    }\n",
       "\n",
       "    .dataframe tbody tr th {\n",
       "        vertical-align: top;\n",
       "    }\n",
       "\n",
       "    .dataframe thead th {\n",
       "        text-align: right;\n",
       "    }\n",
       "</style>\n",
       "<table border=\"1\" class=\"dataframe\">\n",
       "  <thead>\n",
       "    <tr style=\"text-align: right;\">\n",
       "      <th></th>\n",
       "      <th>InvoiceNo</th>\n",
       "      <th>StockCode</th>\n",
       "      <th>Description</th>\n",
       "      <th>Quantity</th>\n",
       "      <th>UnitPrice</th>\n",
       "      <th>CustomerID</th>\n",
       "      <th>Country</th>\n",
       "      <th>Month-Year</th>\n",
       "      <th>Total Price</th>\n",
       "    </tr>\n",
       "  </thead>\n",
       "  <tbody>\n",
       "    <tr>\n",
       "      <th>0</th>\n",
       "      <td>536365</td>\n",
       "      <td>85123A</td>\n",
       "      <td>WHITE HANGING HEART T-LIGHT HOLDER</td>\n",
       "      <td>6</td>\n",
       "      <td>2.55</td>\n",
       "      <td>17850.0</td>\n",
       "      <td>United Kingdom</td>\n",
       "      <td>Dec-2010</td>\n",
       "      <td>15.30</td>\n",
       "    </tr>\n",
       "    <tr>\n",
       "      <th>1</th>\n",
       "      <td>536365</td>\n",
       "      <td>71053</td>\n",
       "      <td>WHITE METAL LANTERN</td>\n",
       "      <td>6</td>\n",
       "      <td>3.39</td>\n",
       "      <td>17850.0</td>\n",
       "      <td>United Kingdom</td>\n",
       "      <td>Dec-2010</td>\n",
       "      <td>20.34</td>\n",
       "    </tr>\n",
       "    <tr>\n",
       "      <th>2</th>\n",
       "      <td>536365</td>\n",
       "      <td>84406B</td>\n",
       "      <td>CREAM CUPID HEARTS COAT HANGER</td>\n",
       "      <td>8</td>\n",
       "      <td>2.75</td>\n",
       "      <td>17850.0</td>\n",
       "      <td>United Kingdom</td>\n",
       "      <td>Dec-2010</td>\n",
       "      <td>22.00</td>\n",
       "    </tr>\n",
       "    <tr>\n",
       "      <th>3</th>\n",
       "      <td>536365</td>\n",
       "      <td>84029G</td>\n",
       "      <td>KNITTED UNION FLAG HOT WATER BOTTLE</td>\n",
       "      <td>6</td>\n",
       "      <td>3.39</td>\n",
       "      <td>17850.0</td>\n",
       "      <td>United Kingdom</td>\n",
       "      <td>Dec-2010</td>\n",
       "      <td>20.34</td>\n",
       "    </tr>\n",
       "    <tr>\n",
       "      <th>4</th>\n",
       "      <td>536365</td>\n",
       "      <td>84029E</td>\n",
       "      <td>RED WOOLLY HOTTIE WHITE HEART.</td>\n",
       "      <td>6</td>\n",
       "      <td>3.39</td>\n",
       "      <td>17850.0</td>\n",
       "      <td>United Kingdom</td>\n",
       "      <td>Dec-2010</td>\n",
       "      <td>20.34</td>\n",
       "    </tr>\n",
       "    <tr>\n",
       "      <th>...</th>\n",
       "      <td>...</td>\n",
       "      <td>...</td>\n",
       "      <td>...</td>\n",
       "      <td>...</td>\n",
       "      <td>...</td>\n",
       "      <td>...</td>\n",
       "      <td>...</td>\n",
       "      <td>...</td>\n",
       "      <td>...</td>\n",
       "    </tr>\n",
       "    <tr>\n",
       "      <th>406824</th>\n",
       "      <td>581587</td>\n",
       "      <td>22613</td>\n",
       "      <td>PACK OF 20 SPACEBOY NAPKINS</td>\n",
       "      <td>12</td>\n",
       "      <td>0.85</td>\n",
       "      <td>12680.0</td>\n",
       "      <td>France</td>\n",
       "      <td>Dec-2011</td>\n",
       "      <td>10.20</td>\n",
       "    </tr>\n",
       "    <tr>\n",
       "      <th>406825</th>\n",
       "      <td>581587</td>\n",
       "      <td>22899</td>\n",
       "      <td>CHILDREN'S APRON DOLLY GIRL</td>\n",
       "      <td>6</td>\n",
       "      <td>2.10</td>\n",
       "      <td>12680.0</td>\n",
       "      <td>France</td>\n",
       "      <td>Dec-2011</td>\n",
       "      <td>12.60</td>\n",
       "    </tr>\n",
       "    <tr>\n",
       "      <th>406826</th>\n",
       "      <td>581587</td>\n",
       "      <td>23254</td>\n",
       "      <td>CHILDRENS CUTLERY DOLLY GIRL</td>\n",
       "      <td>4</td>\n",
       "      <td>4.15</td>\n",
       "      <td>12680.0</td>\n",
       "      <td>France</td>\n",
       "      <td>Dec-2011</td>\n",
       "      <td>16.60</td>\n",
       "    </tr>\n",
       "    <tr>\n",
       "      <th>406827</th>\n",
       "      <td>581587</td>\n",
       "      <td>23255</td>\n",
       "      <td>CHILDRENS CUTLERY CIRCUS PARADE</td>\n",
       "      <td>4</td>\n",
       "      <td>4.15</td>\n",
       "      <td>12680.0</td>\n",
       "      <td>France</td>\n",
       "      <td>Dec-2011</td>\n",
       "      <td>16.60</td>\n",
       "    </tr>\n",
       "    <tr>\n",
       "      <th>406828</th>\n",
       "      <td>581587</td>\n",
       "      <td>22138</td>\n",
       "      <td>BAKING SET 9 PIECE RETROSPOT</td>\n",
       "      <td>3</td>\n",
       "      <td>4.95</td>\n",
       "      <td>12680.0</td>\n",
       "      <td>France</td>\n",
       "      <td>Dec-2011</td>\n",
       "      <td>14.85</td>\n",
       "    </tr>\n",
       "  </tbody>\n",
       "</table>\n",
       "<p>406829 rows × 9 columns</p>\n",
       "</div>"
      ],
      "text/plain": [
       "       InvoiceNo StockCode                          Description  Quantity  \\\n",
       "0         536365    85123A   WHITE HANGING HEART T-LIGHT HOLDER         6   \n",
       "1         536365     71053                  WHITE METAL LANTERN         6   \n",
       "2         536365    84406B       CREAM CUPID HEARTS COAT HANGER         8   \n",
       "3         536365    84029G  KNITTED UNION FLAG HOT WATER BOTTLE         6   \n",
       "4         536365    84029E       RED WOOLLY HOTTIE WHITE HEART.         6   \n",
       "...          ...       ...                                  ...       ...   \n",
       "406824    581587     22613          PACK OF 20 SPACEBOY NAPKINS        12   \n",
       "406825    581587     22899         CHILDREN'S APRON DOLLY GIRL          6   \n",
       "406826    581587     23254        CHILDRENS CUTLERY DOLLY GIRL          4   \n",
       "406827    581587     23255      CHILDRENS CUTLERY CIRCUS PARADE         4   \n",
       "406828    581587     22138        BAKING SET 9 PIECE RETROSPOT          3   \n",
       "\n",
       "        UnitPrice  CustomerID         Country Month-Year  Total Price  \n",
       "0            2.55     17850.0  United Kingdom   Dec-2010        15.30  \n",
       "1            3.39     17850.0  United Kingdom   Dec-2010        20.34  \n",
       "2            2.75     17850.0  United Kingdom   Dec-2010        22.00  \n",
       "3            3.39     17850.0  United Kingdom   Dec-2010        20.34  \n",
       "4            3.39     17850.0  United Kingdom   Dec-2010        20.34  \n",
       "...           ...         ...             ...        ...          ...  \n",
       "406824       0.85     12680.0          France   Dec-2011        10.20  \n",
       "406825       2.10     12680.0          France   Dec-2011        12.60  \n",
       "406826       4.15     12680.0          France   Dec-2011        16.60  \n",
       "406827       4.15     12680.0          France   Dec-2011        16.60  \n",
       "406828       4.95     12680.0          France   Dec-2011        14.85  \n",
       "\n",
       "[406829 rows x 9 columns]"
      ]
     },
     "execution_count": 24,
     "metadata": {},
     "output_type": "execute_result"
    }
   ],
   "source": [
    "df"
   ]
  },
  {
   "cell_type": "markdown",
   "metadata": {},
   "source": [
    "<span style=\"font-family: 'Bookman Old Style', sans-serif; font-size: 16px;\"> Performing Encoding on the non-numerical columns, which may be necessary for the price recommendation. </span>"
   ]
  },
  {
   "cell_type": "code",
   "execution_count": 25,
   "metadata": {
    "execution": {
     "iopub.execute_input": "2023-08-15T19:58:29.164725Z",
     "iopub.status.busy": "2023-08-15T19:58:29.163477Z",
     "iopub.status.idle": "2023-08-15T19:58:29.434779Z",
     "shell.execute_reply": "2023-08-15T19:58:29.433620Z",
     "shell.execute_reply.started": "2023-08-15T19:58:29.164672Z"
    }
   },
   "outputs": [],
   "source": [
    "label_en = LabelEncoder()\n",
    "df['StockCode_Encode'] = label_en.fit_transform(df['StockCode'])\n",
    "df['Invoice_Encode'] = label_en.fit_transform(df['InvoiceNo'])"
   ]
  },
  {
   "cell_type": "code",
   "execution_count": 26,
   "metadata": {
    "execution": {
     "iopub.execute_input": "2023-08-15T19:58:29.437394Z",
     "iopub.status.busy": "2023-08-15T19:58:29.436217Z",
     "iopub.status.idle": "2023-08-15T19:58:29.460570Z",
     "shell.execute_reply": "2023-08-15T19:58:29.459359Z",
     "shell.execute_reply.started": "2023-08-15T19:58:29.437353Z"
    }
   },
   "outputs": [
    {
     "data": {
      "text/html": [
       "<div>\n",
       "<style scoped>\n",
       "    .dataframe tbody tr th:only-of-type {\n",
       "        vertical-align: middle;\n",
       "    }\n",
       "\n",
       "    .dataframe tbody tr th {\n",
       "        vertical-align: top;\n",
       "    }\n",
       "\n",
       "    .dataframe thead th {\n",
       "        text-align: right;\n",
       "    }\n",
       "</style>\n",
       "<table border=\"1\" class=\"dataframe\">\n",
       "  <thead>\n",
       "    <tr style=\"text-align: right;\">\n",
       "      <th></th>\n",
       "      <th>InvoiceNo</th>\n",
       "      <th>StockCode</th>\n",
       "      <th>Description</th>\n",
       "      <th>Quantity</th>\n",
       "      <th>UnitPrice</th>\n",
       "      <th>CustomerID</th>\n",
       "      <th>Country</th>\n",
       "      <th>Month-Year</th>\n",
       "      <th>Total Price</th>\n",
       "      <th>StockCode_Encode</th>\n",
       "      <th>Invoice_Encode</th>\n",
       "    </tr>\n",
       "  </thead>\n",
       "  <tbody>\n",
       "    <tr>\n",
       "      <th>0</th>\n",
       "      <td>536365</td>\n",
       "      <td>85123A</td>\n",
       "      <td>WHITE HANGING HEART T-LIGHT HOLDER</td>\n",
       "      <td>6</td>\n",
       "      <td>2.55</td>\n",
       "      <td>17850.0</td>\n",
       "      <td>United Kingdom</td>\n",
       "      <td>Dec-2010</td>\n",
       "      <td>15.30</td>\n",
       "      <td>3249</td>\n",
       "      <td>0</td>\n",
       "    </tr>\n",
       "    <tr>\n",
       "      <th>1</th>\n",
       "      <td>536365</td>\n",
       "      <td>71053</td>\n",
       "      <td>WHITE METAL LANTERN</td>\n",
       "      <td>6</td>\n",
       "      <td>3.39</td>\n",
       "      <td>17850.0</td>\n",
       "      <td>United Kingdom</td>\n",
       "      <td>Dec-2010</td>\n",
       "      <td>20.34</td>\n",
       "      <td>2649</td>\n",
       "      <td>0</td>\n",
       "    </tr>\n",
       "    <tr>\n",
       "      <th>2</th>\n",
       "      <td>536365</td>\n",
       "      <td>84406B</td>\n",
       "      <td>CREAM CUPID HEARTS COAT HANGER</td>\n",
       "      <td>8</td>\n",
       "      <td>2.75</td>\n",
       "      <td>17850.0</td>\n",
       "      <td>United Kingdom</td>\n",
       "      <td>Dec-2010</td>\n",
       "      <td>22.00</td>\n",
       "      <td>2855</td>\n",
       "      <td>0</td>\n",
       "    </tr>\n",
       "    <tr>\n",
       "      <th>3</th>\n",
       "      <td>536365</td>\n",
       "      <td>84029G</td>\n",
       "      <td>KNITTED UNION FLAG HOT WATER BOTTLE</td>\n",
       "      <td>6</td>\n",
       "      <td>3.39</td>\n",
       "      <td>17850.0</td>\n",
       "      <td>United Kingdom</td>\n",
       "      <td>Dec-2010</td>\n",
       "      <td>20.34</td>\n",
       "      <td>2803</td>\n",
       "      <td>0</td>\n",
       "    </tr>\n",
       "    <tr>\n",
       "      <th>4</th>\n",
       "      <td>536365</td>\n",
       "      <td>84029E</td>\n",
       "      <td>RED WOOLLY HOTTIE WHITE HEART.</td>\n",
       "      <td>6</td>\n",
       "      <td>3.39</td>\n",
       "      <td>17850.0</td>\n",
       "      <td>United Kingdom</td>\n",
       "      <td>Dec-2010</td>\n",
       "      <td>20.34</td>\n",
       "      <td>2802</td>\n",
       "      <td>0</td>\n",
       "    </tr>\n",
       "    <tr>\n",
       "      <th>...</th>\n",
       "      <td>...</td>\n",
       "      <td>...</td>\n",
       "      <td>...</td>\n",
       "      <td>...</td>\n",
       "      <td>...</td>\n",
       "      <td>...</td>\n",
       "      <td>...</td>\n",
       "      <td>...</td>\n",
       "      <td>...</td>\n",
       "      <td>...</td>\n",
       "      <td>...</td>\n",
       "    </tr>\n",
       "    <tr>\n",
       "      <th>406824</th>\n",
       "      <td>581587</td>\n",
       "      <td>22613</td>\n",
       "      <td>PACK OF 20 SPACEBOY NAPKINS</td>\n",
       "      <td>12</td>\n",
       "      <td>0.85</td>\n",
       "      <td>12680.0</td>\n",
       "      <td>France</td>\n",
       "      <td>Dec-2011</td>\n",
       "      <td>10.20</td>\n",
       "      <td>1470</td>\n",
       "      <td>18535</td>\n",
       "    </tr>\n",
       "    <tr>\n",
       "      <th>406825</th>\n",
       "      <td>581587</td>\n",
       "      <td>22899</td>\n",
       "      <td>CHILDREN'S APRON DOLLY GIRL</td>\n",
       "      <td>6</td>\n",
       "      <td>2.10</td>\n",
       "      <td>12680.0</td>\n",
       "      <td>France</td>\n",
       "      <td>Dec-2011</td>\n",
       "      <td>12.60</td>\n",
       "      <td>1746</td>\n",
       "      <td>18535</td>\n",
       "    </tr>\n",
       "    <tr>\n",
       "      <th>406826</th>\n",
       "      <td>581587</td>\n",
       "      <td>23254</td>\n",
       "      <td>CHILDRENS CUTLERY DOLLY GIRL</td>\n",
       "      <td>4</td>\n",
       "      <td>4.15</td>\n",
       "      <td>12680.0</td>\n",
       "      <td>France</td>\n",
       "      <td>Dec-2011</td>\n",
       "      <td>16.60</td>\n",
       "      <td>2086</td>\n",
       "      <td>18535</td>\n",
       "    </tr>\n",
       "    <tr>\n",
       "      <th>406827</th>\n",
       "      <td>581587</td>\n",
       "      <td>23255</td>\n",
       "      <td>CHILDRENS CUTLERY CIRCUS PARADE</td>\n",
       "      <td>4</td>\n",
       "      <td>4.15</td>\n",
       "      <td>12680.0</td>\n",
       "      <td>France</td>\n",
       "      <td>Dec-2011</td>\n",
       "      <td>16.60</td>\n",
       "      <td>2087</td>\n",
       "      <td>18535</td>\n",
       "    </tr>\n",
       "    <tr>\n",
       "      <th>406828</th>\n",
       "      <td>581587</td>\n",
       "      <td>22138</td>\n",
       "      <td>BAKING SET 9 PIECE RETROSPOT</td>\n",
       "      <td>3</td>\n",
       "      <td>4.95</td>\n",
       "      <td>12680.0</td>\n",
       "      <td>France</td>\n",
       "      <td>Dec-2011</td>\n",
       "      <td>14.85</td>\n",
       "      <td>1039</td>\n",
       "      <td>18535</td>\n",
       "    </tr>\n",
       "  </tbody>\n",
       "</table>\n",
       "<p>406829 rows × 11 columns</p>\n",
       "</div>"
      ],
      "text/plain": [
       "       InvoiceNo StockCode                          Description  Quantity  \\\n",
       "0         536365    85123A   WHITE HANGING HEART T-LIGHT HOLDER         6   \n",
       "1         536365     71053                  WHITE METAL LANTERN         6   \n",
       "2         536365    84406B       CREAM CUPID HEARTS COAT HANGER         8   \n",
       "3         536365    84029G  KNITTED UNION FLAG HOT WATER BOTTLE         6   \n",
       "4         536365    84029E       RED WOOLLY HOTTIE WHITE HEART.         6   \n",
       "...          ...       ...                                  ...       ...   \n",
       "406824    581587     22613          PACK OF 20 SPACEBOY NAPKINS        12   \n",
       "406825    581587     22899         CHILDREN'S APRON DOLLY GIRL          6   \n",
       "406826    581587     23254        CHILDRENS CUTLERY DOLLY GIRL          4   \n",
       "406827    581587     23255      CHILDRENS CUTLERY CIRCUS PARADE         4   \n",
       "406828    581587     22138        BAKING SET 9 PIECE RETROSPOT          3   \n",
       "\n",
       "        UnitPrice  CustomerID         Country Month-Year  Total Price  \\\n",
       "0            2.55     17850.0  United Kingdom   Dec-2010        15.30   \n",
       "1            3.39     17850.0  United Kingdom   Dec-2010        20.34   \n",
       "2            2.75     17850.0  United Kingdom   Dec-2010        22.00   \n",
       "3            3.39     17850.0  United Kingdom   Dec-2010        20.34   \n",
       "4            3.39     17850.0  United Kingdom   Dec-2010        20.34   \n",
       "...           ...         ...             ...        ...          ...   \n",
       "406824       0.85     12680.0          France   Dec-2011        10.20   \n",
       "406825       2.10     12680.0          France   Dec-2011        12.60   \n",
       "406826       4.15     12680.0          France   Dec-2011        16.60   \n",
       "406827       4.15     12680.0          France   Dec-2011        16.60   \n",
       "406828       4.95     12680.0          France   Dec-2011        14.85   \n",
       "\n",
       "        StockCode_Encode  Invoice_Encode  \n",
       "0                   3249               0  \n",
       "1                   2649               0  \n",
       "2                   2855               0  \n",
       "3                   2803               0  \n",
       "4                   2802               0  \n",
       "...                  ...             ...  \n",
       "406824              1470           18535  \n",
       "406825              1746           18535  \n",
       "406826              2086           18535  \n",
       "406827              2087           18535  \n",
       "406828              1039           18535  \n",
       "\n",
       "[406829 rows x 11 columns]"
      ]
     },
     "execution_count": 26,
     "metadata": {},
     "output_type": "execute_result"
    }
   ],
   "source": [
    "df"
   ]
  },
  {
   "cell_type": "markdown",
   "metadata": {},
   "source": [
    "<span style=\"font-family: 'Bookman Old Style', sans-serif; font-size: 20px;\">4. Seperating the dataset for Regression Analysis </span>"
   ]
  },
  {
   "cell_type": "code",
   "execution_count": 27,
   "metadata": {
    "execution": {
     "iopub.execute_input": "2023-08-15T19:58:29.462818Z",
     "iopub.status.busy": "2023-08-15T19:58:29.462200Z",
     "iopub.status.idle": "2023-08-15T19:58:29.475524Z",
     "shell.execute_reply": "2023-08-15T19:58:29.474223Z",
     "shell.execute_reply.started": "2023-08-15T19:58:29.462778Z"
    }
   },
   "outputs": [],
   "source": [
    "X = df.drop(columns=['InvoiceNo','StockCode','Total Price','Month-Year','Description','CustomerID','Country'])\n",
    "y = df['Total Price']"
   ]
  },
  {
   "cell_type": "code",
   "execution_count": 28,
   "metadata": {
    "execution": {
     "iopub.execute_input": "2023-08-15T19:58:29.483167Z",
     "iopub.status.busy": "2023-08-15T19:58:29.482809Z",
     "iopub.status.idle": "2023-08-15T19:58:29.496047Z",
     "shell.execute_reply": "2023-08-15T19:58:29.495185Z",
     "shell.execute_reply.started": "2023-08-15T19:58:29.483126Z"
    }
   },
   "outputs": [
    {
     "data": {
      "text/html": [
       "<div>\n",
       "<style scoped>\n",
       "    .dataframe tbody tr th:only-of-type {\n",
       "        vertical-align: middle;\n",
       "    }\n",
       "\n",
       "    .dataframe tbody tr th {\n",
       "        vertical-align: top;\n",
       "    }\n",
       "\n",
       "    .dataframe thead th {\n",
       "        text-align: right;\n",
       "    }\n",
       "</style>\n",
       "<table border=\"1\" class=\"dataframe\">\n",
       "  <thead>\n",
       "    <tr style=\"text-align: right;\">\n",
       "      <th></th>\n",
       "      <th>Quantity</th>\n",
       "      <th>UnitPrice</th>\n",
       "      <th>StockCode_Encode</th>\n",
       "      <th>Invoice_Encode</th>\n",
       "    </tr>\n",
       "  </thead>\n",
       "  <tbody>\n",
       "    <tr>\n",
       "      <th>0</th>\n",
       "      <td>6</td>\n",
       "      <td>2.55</td>\n",
       "      <td>3249</td>\n",
       "      <td>0</td>\n",
       "    </tr>\n",
       "    <tr>\n",
       "      <th>1</th>\n",
       "      <td>6</td>\n",
       "      <td>3.39</td>\n",
       "      <td>2649</td>\n",
       "      <td>0</td>\n",
       "    </tr>\n",
       "    <tr>\n",
       "      <th>2</th>\n",
       "      <td>8</td>\n",
       "      <td>2.75</td>\n",
       "      <td>2855</td>\n",
       "      <td>0</td>\n",
       "    </tr>\n",
       "    <tr>\n",
       "      <th>3</th>\n",
       "      <td>6</td>\n",
       "      <td>3.39</td>\n",
       "      <td>2803</td>\n",
       "      <td>0</td>\n",
       "    </tr>\n",
       "    <tr>\n",
       "      <th>4</th>\n",
       "      <td>6</td>\n",
       "      <td>3.39</td>\n",
       "      <td>2802</td>\n",
       "      <td>0</td>\n",
       "    </tr>\n",
       "    <tr>\n",
       "      <th>...</th>\n",
       "      <td>...</td>\n",
       "      <td>...</td>\n",
       "      <td>...</td>\n",
       "      <td>...</td>\n",
       "    </tr>\n",
       "    <tr>\n",
       "      <th>406824</th>\n",
       "      <td>12</td>\n",
       "      <td>0.85</td>\n",
       "      <td>1470</td>\n",
       "      <td>18535</td>\n",
       "    </tr>\n",
       "    <tr>\n",
       "      <th>406825</th>\n",
       "      <td>6</td>\n",
       "      <td>2.10</td>\n",
       "      <td>1746</td>\n",
       "      <td>18535</td>\n",
       "    </tr>\n",
       "    <tr>\n",
       "      <th>406826</th>\n",
       "      <td>4</td>\n",
       "      <td>4.15</td>\n",
       "      <td>2086</td>\n",
       "      <td>18535</td>\n",
       "    </tr>\n",
       "    <tr>\n",
       "      <th>406827</th>\n",
       "      <td>4</td>\n",
       "      <td>4.15</td>\n",
       "      <td>2087</td>\n",
       "      <td>18535</td>\n",
       "    </tr>\n",
       "    <tr>\n",
       "      <th>406828</th>\n",
       "      <td>3</td>\n",
       "      <td>4.95</td>\n",
       "      <td>1039</td>\n",
       "      <td>18535</td>\n",
       "    </tr>\n",
       "  </tbody>\n",
       "</table>\n",
       "<p>406829 rows × 4 columns</p>\n",
       "</div>"
      ],
      "text/plain": [
       "        Quantity  UnitPrice  StockCode_Encode  Invoice_Encode\n",
       "0              6       2.55              3249               0\n",
       "1              6       3.39              2649               0\n",
       "2              8       2.75              2855               0\n",
       "3              6       3.39              2803               0\n",
       "4              6       3.39              2802               0\n",
       "...          ...        ...               ...             ...\n",
       "406824        12       0.85              1470           18535\n",
       "406825         6       2.10              1746           18535\n",
       "406826         4       4.15              2086           18535\n",
       "406827         4       4.15              2087           18535\n",
       "406828         3       4.95              1039           18535\n",
       "\n",
       "[406829 rows x 4 columns]"
      ]
     },
     "execution_count": 28,
     "metadata": {},
     "output_type": "execute_result"
    }
   ],
   "source": [
    "X"
   ]
  },
  {
   "cell_type": "code",
   "execution_count": 29,
   "metadata": {
    "execution": {
     "iopub.execute_input": "2023-08-15T19:58:29.498284Z",
     "iopub.status.busy": "2023-08-15T19:58:29.497378Z",
     "iopub.status.idle": "2023-08-15T19:58:29.511573Z",
     "shell.execute_reply": "2023-08-15T19:58:29.510587Z",
     "shell.execute_reply.started": "2023-08-15T19:58:29.498253Z"
    }
   },
   "outputs": [
    {
     "data": {
      "text/plain": [
       "Quantity              int64\n",
       "UnitPrice           float64\n",
       "StockCode_Encode      int64\n",
       "Invoice_Encode        int64\n",
       "dtype: object"
      ]
     },
     "execution_count": 29,
     "metadata": {},
     "output_type": "execute_result"
    }
   ],
   "source": [
    "X.dtypes"
   ]
  },
  {
   "cell_type": "code",
   "execution_count": 30,
   "metadata": {
    "execution": {
     "iopub.execute_input": "2023-08-15T19:58:29.513359Z",
     "iopub.status.busy": "2023-08-15T19:58:29.512663Z",
     "iopub.status.idle": "2023-08-15T19:58:29.529239Z",
     "shell.execute_reply": "2023-08-15T19:58:29.527713Z",
     "shell.execute_reply.started": "2023-08-15T19:58:29.513323Z"
    }
   },
   "outputs": [
    {
     "data": {
      "text/plain": [
       "0         15.30\n",
       "1         20.34\n",
       "2         22.00\n",
       "3         20.34\n",
       "4         20.34\n",
       "          ...  \n",
       "406824    10.20\n",
       "406825    12.60\n",
       "406826    16.60\n",
       "406827    16.60\n",
       "406828    14.85\n",
       "Name: Total Price, Length: 406829, dtype: float64"
      ]
     },
     "execution_count": 30,
     "metadata": {},
     "output_type": "execute_result"
    }
   ],
   "source": [
    "y"
   ]
  },
  {
   "cell_type": "markdown",
   "metadata": {},
   "source": [
    "<span style=\"font-family: 'Bookman Old Style', sans-serif; font-size: 22px;\">5. Seperating the dataset for Regression Analysis </span>"
   ]
  },
  {
   "cell_type": "code",
   "execution_count": 31,
   "metadata": {
    "execution": {
     "iopub.execute_input": "2023-08-15T19:58:29.531849Z",
     "iopub.status.busy": "2023-08-15T19:58:29.531151Z",
     "iopub.status.idle": "2023-08-15T19:58:29.613508Z",
     "shell.execute_reply": "2023-08-15T19:58:29.612064Z",
     "shell.execute_reply.started": "2023-08-15T19:58:29.531806Z"
    }
   },
   "outputs": [],
   "source": [
    "X_train, X_test, y_train, y_test = train_test_split(X,y,test_size=0.2,random_state=42)"
   ]
  },
  {
   "cell_type": "markdown",
   "metadata": {},
   "source": [
    "<span style=\"font-family: 'Bookman Old Style', sans-serif; font-size: 16px;\">Standardization to reduce the differ of various input features </span>"
   ]
  },
  {
   "cell_type": "code",
   "execution_count": 32,
   "metadata": {
    "execution": {
     "iopub.execute_input": "2023-08-15T19:58:29.615766Z",
     "iopub.status.busy": "2023-08-15T19:58:29.615314Z",
     "iopub.status.idle": "2023-08-15T19:58:29.661946Z",
     "shell.execute_reply": "2023-08-15T19:58:29.660596Z",
     "shell.execute_reply.started": "2023-08-15T19:58:29.615722Z"
    }
   },
   "outputs": [],
   "source": [
    "scaler = StandardScaler()\n",
    "X_train = scaler.fit_transform(X_train)\n",
    "X_test = scaler.transform(X_test)"
   ]
  },
  {
   "cell_type": "code",
   "execution_count": 33,
   "metadata": {
    "execution": {
     "iopub.execute_input": "2023-08-15T19:58:29.664343Z",
     "iopub.status.busy": "2023-08-15T19:58:29.663805Z",
     "iopub.status.idle": "2023-08-15T19:58:29.672103Z",
     "shell.execute_reply": "2023-08-15T19:58:29.671210Z",
     "shell.execute_reply.started": "2023-08-15T19:58:29.664294Z"
    }
   },
   "outputs": [
    {
     "data": {
      "text/plain": [
       "array([[-0.03636296, -0.00707983, -0.45122233,  0.92579004],\n",
       "       [-0.03996953, -0.00707983, -0.68693822,  0.62134974],\n",
       "       [-0.03996953, -0.04072785, -0.21550644,  0.62098967],\n",
       "       ...,\n",
       "       [-0.03636296, -0.03766894,  0.22749729, -0.62431701],\n",
       "       [-0.03636296, -0.01865049, -0.81012642, -0.4793883 ],\n",
       "       [-0.03636296, -0.0183845 , -0.82670945, -0.72189634]])"
      ]
     },
     "execution_count": 33,
     "metadata": {},
     "output_type": "execute_result"
    }
   ],
   "source": [
    "X_train"
   ]
  },
  {
   "cell_type": "code",
   "execution_count": 34,
   "metadata": {
    "execution": {
     "iopub.execute_input": "2023-08-15T19:58:29.674348Z",
     "iopub.status.busy": "2023-08-15T19:58:29.673488Z",
     "iopub.status.idle": "2023-08-15T19:58:29.686323Z",
     "shell.execute_reply": "2023-08-15T19:58:29.685194Z",
     "shell.execute_reply.started": "2023-08-15T19:58:29.674309Z"
    }
   },
   "outputs": [
    {
     "data": {
      "text/plain": [
       "array([[-3.63629552e-02,  5.94182369e-02,  1.24853798e+00,\n",
       "        -1.51333312e+00],\n",
       "       [-2.91498090e-02,  6.21978448e-03,  3.35286970e-01,\n",
       "         4.08007477e-01],\n",
       "       [-5.80023938e-02, -3.50090161e-02, -1.28748071e+00,\n",
       "         1.93759047e+00],\n",
       "       ...,\n",
       "       [-2.97224273e-04, -4.07278497e-02,  3.02120916e-01,\n",
       "        -7.97691356e-01],\n",
       "       [-2.91498090e-02, -4.07278497e-02, -8.16048933e-01,\n",
       "         8.18128717e-01],\n",
       "       [-3.99695283e-02,  6.67330241e-02, -1.06532260e-01,\n",
       "        -8.56022911e-01]])"
      ]
     },
     "execution_count": 34,
     "metadata": {},
     "output_type": "execute_result"
    }
   ],
   "source": [
    "X_test"
   ]
  },
  {
   "cell_type": "markdown",
   "metadata": {},
   "source": [
    "<span style=\"font-family: 'Bookman Old Style', sans-serif; font-size: 22px;\">6. Model Analysis :</span>"
   ]
  },
  {
   "cell_type": "code",
   "execution_count": 35,
   "metadata": {
    "execution": {
     "iopub.execute_input": "2023-08-15T19:58:29.688316Z",
     "iopub.status.busy": "2023-08-15T19:58:29.687558Z",
     "iopub.status.idle": "2023-08-15T19:58:29.699022Z",
     "shell.execute_reply": "2023-08-15T19:58:29.698016Z",
     "shell.execute_reply.started": "2023-08-15T19:58:29.688277Z"
    }
   },
   "outputs": [],
   "source": [
    "models = [\n",
    "    LinearRegression(),\n",
    "    RandomForestRegressor(n_estimators=100, random_state=42),\n",
    "    Lasso(alpha = 10),\n",
    "    Ridge(alpha = 10)\n",
    "]"
   ]
  },
  {
   "cell_type": "code",
   "execution_count": 36,
   "metadata": {
    "execution": {
     "iopub.execute_input": "2023-08-15T19:58:29.700903Z",
     "iopub.status.busy": "2023-08-15T19:58:29.700538Z",
     "iopub.status.idle": "2023-08-15T20:00:53.101062Z",
     "shell.execute_reply": "2023-08-15T20:00:53.097222Z",
     "shell.execute_reply.started": "2023-08-15T19:58:29.700869Z"
    }
   },
   "outputs": [
    {
     "name": "stdout",
     "output_type": "stream",
     "text": [
      "LinearRegression R2 Score: -0.07562386632369478\n",
      "RandomForestRegressor R2 Score: 0.6063781156251762\n",
      "Lasso R2 Score: 0.013488869789706426\n",
      "Ridge R2 Score: -0.07559547874478079\n"
     ]
    }
   ],
   "source": [
    "for m in models:\n",
    "    m.fit(X_train, y_train)\n",
    "    y_pred = m.predict(X_test)\n",
    "    \n",
    "    r2_value = r2_score(y_test,y_pred)\n",
    "    print(f\"{m.__class__.__name__} R2 Score: {r2_value}\")"
   ]
  },
  {
   "cell_type": "markdown",
   "metadata": {},
   "source": [
    "<span style=\"font-family: 'Bookman Old Style', sans-serif; font-size: 20px; color: green\"><b>Random Forest Regressor </b> overall gives the best R2 Score out of the models evaluated. The R2 value of Random Forest Regressor is more closer to 1, than others. RF Regressor is able to understand and generalize the unseen (test) data well. It also has the ability to understand the non linear relationships in data points. </span>"
   ]
  },
  {
   "cell_type": "markdown",
   "metadata": {},
   "source": [
    "<span style=\"font-family: 'Bookman Old Style', sans-serif; font-size: 16px\">Analysis for Lasso Model, which is second best in this scenario</span>"
   ]
  },
  {
   "cell_type": "code",
   "execution_count": 37,
   "metadata": {
    "execution": {
     "iopub.execute_input": "2023-08-15T20:00:53.103735Z",
     "iopub.status.busy": "2023-08-15T20:00:53.102904Z",
     "iopub.status.idle": "2023-08-15T20:00:53.110480Z",
     "shell.execute_reply": "2023-08-15T20:00:53.109001Z",
     "shell.execute_reply.started": "2023-08-15T20:00:53.103687Z"
    }
   },
   "outputs": [],
   "source": [
    "r2_lasso = []"
   ]
  },
  {
   "cell_type": "code",
   "execution_count": 38,
   "metadata": {
    "execution": {
     "iopub.execute_input": "2023-08-15T20:00:53.113090Z",
     "iopub.status.busy": "2023-08-15T20:00:53.112379Z",
     "iopub.status.idle": "2023-08-15T20:00:54.997995Z",
     "shell.execute_reply": "2023-08-15T20:00:54.996834Z",
     "shell.execute_reply.started": "2023-08-15T20:00:53.113047Z"
    }
   },
   "outputs": [],
   "source": [
    "for x in range(10,500,10):\n",
    "    model_l = Lasso(alpha = x)\n",
    "    model_l.fit(X_train, y_train)\n",
    "    y_pred = model_l.predict(X_test)\n",
    "\n",
    "    r2_value = r2_score(y_test,y_pred)\n",
    "    r2_lasso.append(r2_value)"
   ]
  },
  {
   "cell_type": "code",
   "execution_count": 39,
   "metadata": {
    "execution": {
     "iopub.execute_input": "2023-08-15T20:00:55.002088Z",
     "iopub.status.busy": "2023-08-15T20:00:54.999437Z",
     "iopub.status.idle": "2023-08-15T20:00:55.021378Z",
     "shell.execute_reply": "2023-08-15T20:00:55.019221Z",
     "shell.execute_reply.started": "2023-08-15T20:00:55.002037Z"
    }
   },
   "outputs": [
    {
     "data": {
      "text/plain": [
       "[0.013488869789706426,\n",
       " 0.09550456722506506,\n",
       " 0.16896904291995474,\n",
       " 0.23388229693001505,\n",
       " 0.2902443292214858,\n",
       " 0.33805513979436896,\n",
       " 0.36401984528496445,\n",
       " 0.36665930251864154,\n",
       " 0.36859644778417444,\n",
       " 0.36983128108156305,\n",
       " 0.37036380241080724,\n",
       " 0.3701940117719069,\n",
       " 0.36932190916486274,\n",
       " 0.36774749458967393,\n",
       " 0.3654707680463408,\n",
       " 0.3624917295348635,\n",
       " 0.35881037905524193,\n",
       " 0.35442671660747593,\n",
       " 0.3493407421915654,\n",
       " 0.3435524558075108,\n",
       " 0.3370618574553118,\n",
       " 0.3298689471349686,\n",
       " 0.3219737248464811,\n",
       " 0.313376190589849,\n",
       " 0.304076344365073,\n",
       " 0.29407418617215253,\n",
       " 0.2833697160110876,\n",
       " 0.27196293388187864,\n",
       " 0.25985383978452514,\n",
       " 0.24704243371902723,\n",
       " 0.23352871568538525,\n",
       " 0.21931268568359885,\n",
       " 0.20439434371366805,\n",
       " 0.18877368977559306,\n",
       " 0.17245072386937355,\n",
       " 0.15542544599500985,\n",
       " 0.13769785615250185,\n",
       " 0.11926795434184978,\n",
       " 0.10013574056305297,\n",
       " 0.08030121481611219,\n",
       " 0.05976437710102678,\n",
       " 0.0385252274177974,\n",
       " 0.016583765766423397,\n",
       " -4.082751379641536e-06,\n",
       " -4.082751379641536e-06,\n",
       " -4.082751379641536e-06,\n",
       " -4.082751379641536e-06,\n",
       " -4.082751379641536e-06,\n",
       " -4.082751379641536e-06]"
      ]
     },
     "execution_count": 39,
     "metadata": {},
     "output_type": "execute_result"
    }
   ],
   "source": [
    "r2_lasso"
   ]
  },
  {
   "cell_type": "code",
   "execution_count": 40,
   "metadata": {
    "execution": {
     "iopub.execute_input": "2023-08-15T20:00:55.023684Z",
     "iopub.status.busy": "2023-08-15T20:00:55.022869Z",
     "iopub.status.idle": "2023-08-15T20:00:55.504237Z",
     "shell.execute_reply": "2023-08-15T20:00:55.503103Z",
     "shell.execute_reply.started": "2023-08-15T20:00:55.023635Z"
    }
   },
   "outputs": [
    {
     "data": {
      "image/png": "[encoded data removed]",
      "text/plain": [
       "<Figure size 1000x600 with 1 Axes>"
      ]
     },
     "metadata": {},
     "output_type": "display_data"
    }
   ],
   "source": [
    "sns.set_style(\"whitegrid\")\n",
    "plt.figure(figsize=(10, 6))\n",
    "sns.lineplot(x=list(range(10,400,10)), y=r2_lasso[:39], marker='o', color='blue', linestyle = 'dashed')\n",
    "plt.title('R2 Score variation for Lasso Regression Model',fontsize=14)\n",
    "plt.xlabel('Alpha value',fontsize=14)\n",
    "plt.ylabel('R2 Score',fontsize=14)\n",
    "plt.show()"
   ]
  },
  {
   "cell_type": "markdown",
   "metadata": {},
   "source": [
    "<span style=\"font-family: 'Bookman Old Style', sans-serif; font-size: 16px\">The model gets the max R2 Score of 0.37 (app.) but decreases when alpha further increases</span>"
   ]
  },
  {
   "cell_type": "code",
   "execution_count": 41,
   "metadata": {
    "execution": {
     "iopub.execute_input": "2023-08-15T20:00:55.506003Z",
     "iopub.status.busy": "2023-08-15T20:00:55.505467Z",
     "iopub.status.idle": "2023-08-15T20:00:55.510878Z",
     "shell.execute_reply": "2023-08-15T20:00:55.509896Z",
     "shell.execute_reply.started": "2023-08-15T20:00:55.505967Z"
    }
   },
   "outputs": [],
   "source": [
    "n_estim = list(range(20,160,10))"
   ]
  },
  {
   "cell_type": "code",
   "execution_count": 42,
   "metadata": {
    "execution": {
     "iopub.execute_input": "2023-08-15T20:00:55.512399Z",
     "iopub.status.busy": "2023-08-15T20:00:55.511893Z",
     "iopub.status.idle": "2023-08-15T20:00:55.525869Z",
     "shell.execute_reply": "2023-08-15T20:00:55.524712Z",
     "shell.execute_reply.started": "2023-08-15T20:00:55.512367Z"
    }
   },
   "outputs": [],
   "source": [
    "random_forest_R = []"
   ]
  },
  {
   "cell_type": "code",
   "execution_count": 43,
   "metadata": {
    "execution": {
     "iopub.execute_input": "2023-08-15T20:00:55.528001Z",
     "iopub.status.busy": "2023-08-15T20:00:55.527084Z",
     "iopub.status.idle": "2023-08-15T20:28:30.783752Z",
     "shell.execute_reply": "2023-08-15T20:28:30.782421Z",
     "shell.execute_reply.started": "2023-08-15T20:00:55.527954Z"
    }
   },
   "outputs": [],
   "source": [
    "for n in n_estim:\n",
    "    rf_R = RandomForestRegressor(n_estimators=n, random_state=42)\n",
    "    rf_R.fit(X_train,y_train)\n",
    "    y_pred_ = rf_R.predict(X_test)\n",
    "\n",
    "    r2_value = r2_score(y_test,y_pred_)\n",
    "    random_forest_R.append(r2_value)"
   ]
  },
  {
   "cell_type": "code",
   "execution_count": 44,
   "metadata": {
    "execution": {
     "iopub.execute_input": "2023-08-15T20:28:30.787193Z",
     "iopub.status.busy": "2023-08-15T20:28:30.786140Z",
     "iopub.status.idle": "2023-08-15T20:28:31.175314Z",
     "shell.execute_reply": "2023-08-15T20:28:31.174216Z",
     "shell.execute_reply.started": "2023-08-15T20:28:30.787127Z"
    }
   },
   "outputs": [
    {
     "data": {
      "image/png": "[encoded data removed]",
      "text/plain": [
       "<Figure size 1000x600 with 1 Axes>"
      ]
     },
     "metadata": {},
     "output_type": "display_data"
    }
   ],
   "source": [
    "sns.set_style(\"whitegrid\")\n",
    "plt.figure(figsize=(10, 6))\n",
    "sns.lineplot(x=n_estim, y=random_forest_R, marker='o', color='green', linestyle = 'dashed')\n",
    "plt.title('R2 Score variation for Random Forest Regression Model',fontsize=14)\n",
    "plt.xlabel('Estimators',fontsize=14)\n",
    "plt.ylabel('R2 Score',fontsize=14)\n",
    "plt.show()"
   ]
  },
  {
   "cell_type": "code",
   "execution_count": 45,
   "metadata": {
    "execution": {
     "iopub.execute_input": "2023-08-15T20:28:31.176979Z",
     "iopub.status.busy": "2023-08-15T20:28:31.176651Z",
     "iopub.status.idle": "2023-08-15T20:28:31.183310Z",
     "shell.execute_reply": "2023-08-15T20:28:31.182229Z",
     "shell.execute_reply.started": "2023-08-15T20:28:31.176949Z"
    }
   },
   "outputs": [
    {
     "data": {
      "text/plain": [
       "[0.5861008604193167,\n",
       " 0.6454790289192889,\n",
       " 0.6131599756744083,\n",
       " 0.6071153149721392,\n",
       " 0.6122964651678325,\n",
       " 0.601370091971726,\n",
       " 0.6000138614298374,\n",
       " 0.5997773505701349,\n",
       " 0.6063781156251762,\n",
       " 0.6323310708616088,\n",
       " 0.6169698067035025,\n",
       " 0.6102471528417107,\n",
       " 0.6104448044356365,\n",
       " 0.6003625065444815]"
      ]
     },
     "execution_count": 45,
     "metadata": {},
     "output_type": "execute_result"
    }
   ],
   "source": [
    "random_forest_R"
   ]
  },
  {
   "cell_type": "code",
   "execution_count": 46,
   "metadata": {
    "execution": {
     "iopub.execute_input": "2023-08-15T20:28:31.184923Z",
     "iopub.status.busy": "2023-08-15T20:28:31.184594Z",
     "iopub.status.idle": "2023-08-15T20:28:31.197963Z",
     "shell.execute_reply": "2023-08-15T20:28:31.196640Z",
     "shell.execute_reply.started": "2023-08-15T20:28:31.184888Z"
    }
   },
   "outputs": [
    {
     "data": {
      "text/plain": [
       "0.6454790289192889"
      ]
     },
     "execution_count": 46,
     "metadata": {},
     "output_type": "execute_result"
    }
   ],
   "source": [
    "max(random_forest_R)"
   ]
  },
  {
   "cell_type": "markdown",
   "metadata": {},
   "source": [
    "<span style=\"font-family: 'Bookman Old Style', sans-serif; font-size: 16px\">The model gets the max R2 Score of 0.645 (app.) There is fluctuation for the R2 Scores but the optimal number of trees in the RF is around 30. </span>"
   ]
  }
 ],
 "metadata": {
  "kernelspec": {
   "display_name": "Python 3 (ipykernel)",
   "language": "python",
   "name": "python3"
  },
  "language_info": {
   "codemirror_mode": {
    "name": "ipython",
    "version": 3
   },
   "file_extension": ".py",
   "mimetype": "text/x-python",
   "name": "python",
   "nbconvert_exporter": "python",
   "pygments_lexer": "ipython3",
   "version": "3.11.4"
  }
 },
 "nbformat": 4,
 "nbformat_minor": 4
}
